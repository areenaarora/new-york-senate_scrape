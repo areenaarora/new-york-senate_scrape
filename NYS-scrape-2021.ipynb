{
 "cells": [
  {
   "cell_type": "code",
   "execution_count": 1,
   "id": "6a9160bf",
   "metadata": {},
   "outputs": [],
   "source": [
    "import requests\n",
    "from bs4 import BeautifulSoup"
   ]
  },
  {
   "cell_type": "code",
   "execution_count": 2,
   "id": "17143822",
   "metadata": {},
   "outputs": [
    {
     "name": "stdout",
     "output_type": "stream",
     "text": [
      "https://www.nysenate.gov/search/legislation?sort=desc&type=f_bill&searched=true&bill_session_year=2021&bill_status=SIGNED_BY_GOV&page=1\n",
      "https://www.nysenate.gov/search/legislation?sort=desc&type=f_bill&searched=true&bill_session_year=2021&bill_status=SIGNED_BY_GOV&page=2\n"
     ]
    }
   ],
   "source": [
    "page_numbers_list = []\n",
    "page_numbers = range(1, 3)\n",
    "for page in page_numbers:\n",
    "    href = \"https://www.nysenate.gov/search/legislation?sort=desc&type=f_bill&searched=true&bill_session_year=2021&bill_status=SIGNED_BY_GOV&page=\" + str(page)\n",
    "    page_numbers_list = href\n",
    "    print(href)"
   ]
  },
  {
   "cell_type": "code",
   "execution_count": 3,
   "id": "72a9aaf8",
   "metadata": {},
   "outputs": [],
   "source": [
    "def signed_bills(href):\n",
    "    raw_html = requests.get(href).content\n",
    "    soup_doc = BeautifulSoup(raw_html, \"html.parser\")\n",
    "    \n",
    "    all_bills = soup_doc.find_all(\"div\", class_=\"c-block c-list-item c-block-legislation\")\n",
    "\n",
    "    signed_bills_list_of_dicts = []\n",
    "\n",
    "    for bill in all_bills:\n",
    "        bill_number = bill.find(\"h3\", class_=\"c-bill-num\").text.replace(\"\\n\", \"\").replace(\"Bill \", \"\").strip()\n",
    "        bill_link = bill.find(\"h3\", class_=\"c-bill-num\").find(\"a\")['href']\n",
    "        bill_description = bill.find(\"p\", class_=\"c-bill-descript\").text.replace(\"\\n\", \"\")\n",
    "        bill_date = bill.find(\"p\", class_=\"c-bill-update--date\").text.replace(\"\\n\", \"\").replace(\"|  Signed by Governor\", \"\")\n",
    "        bill_sponsor_tag = bill.find(\"p\", class_=\"c-bill-update--sponsor\")\n",
    "        if bill_sponsor_tag != None:\n",
    "            bill_sponsor = bill_sponsor_tag.text.replace(\"\\n\", \"\").replace(\"Sponsor:\", \"\")\n",
    "        else:\n",
    "            bill_sponsor = \"\"\n",
    "        signed_bills_list_of_dicts.append(\n",
    "            {\"bill_number\": bill_number, \"bill_link\": \"https://www.nysenate.gov\" + bill_link, \"bill_description\": bill_description,\n",
    "             \"bill_date\": bill_date, \"bill_sponsor\": bill_sponsor}\n",
    "        )\n",
    "        \n",
    "    \n",
    "    return signed_bills_list_of_dicts"
   ]
  },
  {
   "cell_type": "code",
   "execution_count": 5,
   "id": "9fe43224",
   "metadata": {},
   "outputs": [],
   "source": [
    "page_numbers_main_list = []\n",
    "page_numbers = range(1, 3)\n",
    "for page in page_numbers:\n",
    "    href = \"https://www.nysenate.gov/search/legislation?sort=desc&type=f_bill&searched=true&bill_session_year=2021&bill_status=SIGNED_BY_GOV&page=\" + str(page)\n",
    "    bill_list = signed_bills(href)\n",
    "    \n",
    "    page_numbers_main_list.extend(bill_list)"
   ]
  },
  {
   "cell_type": "code",
   "execution_count": 6,
   "id": "ec577d8e",
   "metadata": {},
   "outputs": [
    {
     "name": "stderr",
     "output_type": "stream",
     "text": [
      "/Users/areena.arora/.pyenv/versions/3.10.0/lib/python3.10/site-packages/pandas/compat/__init__.py:124: UserWarning: Could not import the lzma module. Your installed Python is incomplete. Attempting to use lzma compression will result in a RuntimeError.\n",
      "  warnings.warn(msg)\n"
     ]
    },
    {
     "data": {
      "text/html": [
       "<div>\n",
       "<style scoped>\n",
       "    .dataframe tbody tr th:only-of-type {\n",
       "        vertical-align: middle;\n",
       "    }\n",
       "\n",
       "    .dataframe tbody tr th {\n",
       "        vertical-align: top;\n",
       "    }\n",
       "\n",
       "    .dataframe thead th {\n",
       "        text-align: right;\n",
       "    }\n",
       "</style>\n",
       "<table border=\"1\" class=\"dataframe\">\n",
       "  <thead>\n",
       "    <tr style=\"text-align: right;\">\n",
       "      <th></th>\n",
       "      <th>bill_number</th>\n",
       "      <th>bill_link</th>\n",
       "      <th>bill_description</th>\n",
       "      <th>bill_date</th>\n",
       "      <th>bill_sponsor</th>\n",
       "    </tr>\n",
       "  </thead>\n",
       "  <tbody>\n",
       "    <tr>\n",
       "      <th>0</th>\n",
       "      <td>A9002</td>\n",
       "      <td>https://www.nysenate.gov/legislation/bills/2021/a9002</td>\n",
       "      <td>DEBT SERVICE FUND--GENERAL DEBT SERVICE FUND</td>\n",
       "      <td>April 9, 2022  |  Signed by Governor</td>\n",
       "      <td></td>\n",
       "    </tr>\n",
       "    <tr>\n",
       "      <th>1</th>\n",
       "      <td>S8748</td>\n",
       "      <td>https://www.nysenate.gov/legislation/bills/2021/s8748</td>\n",
       "      <td>Enacts major components relating to compensation, benefits and other terms and conditions of employment of various units; repeals certain provisions relating thereto</td>\n",
       "      <td>April 9, 2022  |  Signed by Governor</td>\n",
       "      <td>JACKSON</td>\n",
       "    </tr>\n",
       "    <tr>\n",
       "      <th>2</th>\n",
       "      <td>S8715</td>\n",
       "      <td>https://www.nysenate.gov/legislation/bills/2021/s8715</td>\n",
       "      <td>Provides for emergency appropriation for the period April 1, 2022 through April 7, 2022</td>\n",
       "      <td>April 4, 2022  |  Signed by Governor</td>\n",
       "      <td>KRUEGER</td>\n",
       "    </tr>\n",
       "    <tr>\n",
       "      <th>3</th>\n",
       "      <td>A9607</td>\n",
       "      <td>https://www.nysenate.gov/legislation/bills/2021/a9607</td>\n",
       "      <td>Extends the time for certain public officers to take or file their oaths of office or official undertakings</td>\n",
       "      <td>April 1, 2022  |  Signed by Governor</td>\n",
       "      <td>HEASTIE</td>\n",
       "    </tr>\n",
       "    <tr>\n",
       "      <th>4</th>\n",
       "      <td>S7619</td>\n",
       "      <td>https://www.nysenate.gov/legislation/bills/2021/s7619</td>\n",
       "      <td>Extends the effectiveness of provisions relating to absentee ballots for school district elections during a declared disaster emergency</td>\n",
       "      <td>March 26, 2022  |  Signed by Governor</td>\n",
       "      <td>MAYER</td>\n",
       "    </tr>\n",
       "    <tr>\n",
       "      <th>5</th>\n",
       "      <td>S7692</td>\n",
       "      <td>https://www.nysenate.gov/legislation/bills/2021/s7692</td>\n",
       "      <td>Relates to the satisfaction of requirements for an explanation of benefits for certain pharmaceutical claims</td>\n",
       "      <td>March 18, 2022  |  Signed by Governor</td>\n",
       "      <td>BRESLIN</td>\n",
       "    </tr>\n",
       "    <tr>\n",
       "      <th>6</th>\n",
       "      <td>S7695</td>\n",
       "      <td>https://www.nysenate.gov/legislation/bills/2021/s7695</td>\n",
       "      <td>Amends the date the president of the state civil service commission shall complete a study on the current civil service examination process</td>\n",
       "      <td>March 18, 2022  |  Signed by Governor</td>\n",
       "      <td>SEPULVEDA</td>\n",
       "    </tr>\n",
       "    <tr>\n",
       "      <th>7</th>\n",
       "      <td>S7698</td>\n",
       "      <td>https://www.nysenate.gov/legislation/bills/2021/s7698</td>\n",
       "      <td>Relates to complaints served in a proceeding initiated on a residential mortgage covering a one to four family dwelling</td>\n",
       "      <td>March 18, 2022  |  Signed by Governor</td>\n",
       "      <td>COMRIE</td>\n",
       "    </tr>\n",
       "    <tr>\n",
       "      <th>8</th>\n",
       "      <td>S7699</td>\n",
       "      <td>https://www.nysenate.gov/legislation/bills/2021/s7699</td>\n",
       "      <td>Prevents institutions from implementing contingencies on the receipt of state funding</td>\n",
       "      <td>March 18, 2022  |  Signed by Governor</td>\n",
       "      <td>STAVISKY</td>\n",
       "    </tr>\n",
       "    <tr>\n",
       "      <th>9</th>\n",
       "      <td>S7703</td>\n",
       "      <td>https://www.nysenate.gov/legislation/bills/2021/s7703</td>\n",
       "      <td>Relates to certain functions of the office of addiction services and supports, and to use of the term incarcerated individuals</td>\n",
       "      <td>March 18, 2022  |  Signed by Governor</td>\n",
       "      <td>BAILEY</td>\n",
       "    </tr>\n",
       "    <tr>\n",
       "      <th>10</th>\n",
       "      <td>S7704</td>\n",
       "      <td>https://www.nysenate.gov/legislation/bills/2021/s7704</td>\n",
       "      <td>Authorizes the return of any operating reserve balances of members of a municipal insurance reciprocal</td>\n",
       "      <td>March 18, 2022  |  Signed by Governor</td>\n",
       "      <td>BRESLIN</td>\n",
       "    </tr>\n",
       "    <tr>\n",
       "      <th>11</th>\n",
       "      <td>S7705</td>\n",
       "      <td>https://www.nysenate.gov/legislation/bills/2021/s7705</td>\n",
       "      <td>Criminalizes the sale of ghost guns</td>\n",
       "      <td>March 18, 2022  |  Signed by Governor</td>\n",
       "      <td>HOYLMAN</td>\n",
       "    </tr>\n",
       "    <tr>\n",
       "      <th>12</th>\n",
       "      <td>S7711</td>\n",
       "      <td>https://www.nysenate.gov/legislation/bills/2021/s7711</td>\n",
       "      <td>Directs the president of the state civil service commission to publish reports annually relating to diversity within state government</td>\n",
       "      <td>March 18, 2022  |  Signed by Governor</td>\n",
       "      <td>PARKER</td>\n",
       "    </tr>\n",
       "    <tr>\n",
       "      <th>13</th>\n",
       "      <td>S7716</td>\n",
       "      <td>https://www.nysenate.gov/legislation/bills/2021/s7716</td>\n",
       "      <td>Relates to the firearm violence research institute</td>\n",
       "      <td>March 18, 2022  |  Signed by Governor</td>\n",
       "      <td>PERSAUD</td>\n",
       "    </tr>\n",
       "    <tr>\n",
       "      <th>14</th>\n",
       "      <td>S7726</td>\n",
       "      <td>https://www.nysenate.gov/legislation/bills/2021/s7726</td>\n",
       "      <td>Directs the commissioner of health to establish and implement an infection inspection control audit and checklist on nursing homes</td>\n",
       "      <td>March 18, 2022  |  Signed by Governor</td>\n",
       "      <td>SKOUFIS</td>\n",
       "    </tr>\n",
       "    <tr>\n",
       "      <th>15</th>\n",
       "      <td>S7729</td>\n",
       "      <td>https://www.nysenate.gov/legislation/bills/2021/s7729</td>\n",
       "      <td>Requires real estate brokers to institute standardized operating procedures for the prerequisites prospective homebuyers shall meet prior to receiving any services</td>\n",
       "      <td>March 18, 2022  |  Signed by Governor</td>\n",
       "      <td>SKOUFIS</td>\n",
       "    </tr>\n",
       "    <tr>\n",
       "      <th>16</th>\n",
       "      <td>S7733</td>\n",
       "      <td>https://www.nysenate.gov/legislation/bills/2021/s7733</td>\n",
       "      <td>Relates to the awarding of attorney's fees under the human rights law</td>\n",
       "      <td>March 18, 2022  |  Signed by Governor</td>\n",
       "      <td>BIAGGI</td>\n",
       "    </tr>\n",
       "    <tr>\n",
       "      <th>17</th>\n",
       "      <td>S7734</td>\n",
       "      <td>https://www.nysenate.gov/legislation/bills/2021/s7734</td>\n",
       "      <td>Relates to freedom of information law disclosures related to law enforcement related records and records identifying victims</td>\n",
       "      <td>March 18, 2022  |  Signed by Governor</td>\n",
       "      <td>SKOUFIS</td>\n",
       "    </tr>\n",
       "    <tr>\n",
       "      <th>18</th>\n",
       "      <td>S7766</td>\n",
       "      <td>https://www.nysenate.gov/legislation/bills/2021/s7766</td>\n",
       "      <td>Relation to fiber-based services being provided to tenants</td>\n",
       "      <td>March 18, 2022  |  Signed by Governor</td>\n",
       "      <td>PARKER</td>\n",
       "    </tr>\n",
       "    <tr>\n",
       "      <th>19</th>\n",
       "      <td>S7773</td>\n",
       "      <td>https://www.nysenate.gov/legislation/bills/2021/s7773</td>\n",
       "      <td>Relates to actions for non-payment of wages</td>\n",
       "      <td>March 18, 2022  |  Signed by Governor</td>\n",
       "      <td>RAMOS</td>\n",
       "    </tr>\n",
       "  </tbody>\n",
       "</table>\n",
       "</div>"
      ],
      "text/plain": [
       "   bill_number                                              bill_link  \\\n",
       "0        A9002  https://www.nysenate.gov/legislation/bills/2021/a9002   \n",
       "1        S8748  https://www.nysenate.gov/legislation/bills/2021/s8748   \n",
       "2        S8715  https://www.nysenate.gov/legislation/bills/2021/s8715   \n",
       "3        A9607  https://www.nysenate.gov/legislation/bills/2021/a9607   \n",
       "4        S7619  https://www.nysenate.gov/legislation/bills/2021/s7619   \n",
       "5        S7692  https://www.nysenate.gov/legislation/bills/2021/s7692   \n",
       "6        S7695  https://www.nysenate.gov/legislation/bills/2021/s7695   \n",
       "7        S7698  https://www.nysenate.gov/legislation/bills/2021/s7698   \n",
       "8        S7699  https://www.nysenate.gov/legislation/bills/2021/s7699   \n",
       "9        S7703  https://www.nysenate.gov/legislation/bills/2021/s7703   \n",
       "10       S7704  https://www.nysenate.gov/legislation/bills/2021/s7704   \n",
       "11       S7705  https://www.nysenate.gov/legislation/bills/2021/s7705   \n",
       "12       S7711  https://www.nysenate.gov/legislation/bills/2021/s7711   \n",
       "13       S7716  https://www.nysenate.gov/legislation/bills/2021/s7716   \n",
       "14       S7726  https://www.nysenate.gov/legislation/bills/2021/s7726   \n",
       "15       S7729  https://www.nysenate.gov/legislation/bills/2021/s7729   \n",
       "16       S7733  https://www.nysenate.gov/legislation/bills/2021/s7733   \n",
       "17       S7734  https://www.nysenate.gov/legislation/bills/2021/s7734   \n",
       "18       S7766  https://www.nysenate.gov/legislation/bills/2021/s7766   \n",
       "19       S7773  https://www.nysenate.gov/legislation/bills/2021/s7773   \n",
       "\n",
       "                                                                                                                                                                                                   bill_description  \\\n",
       "0                                                                                                                                                  DEBT SERVICE FUND--GENERAL DEBT SERVICE FUND                       \n",
       "1                         Enacts major components relating to compensation, benefits and other terms and conditions of employment of various units; repeals certain provisions relating thereto                       \n",
       "2                                                                                                       Provides for emergency appropriation for the period April 1, 2022 through April 7, 2022                       \n",
       "3                                                                                   Extends the time for certain public officers to take or file their oaths of office or official undertakings                       \n",
       "4                                                       Extends the effectiveness of provisions relating to absentee ballots for school district elections during a declared disaster emergency                       \n",
       "5                                                                                  Relates to the satisfaction of requirements for an explanation of benefits for certain pharmaceutical claims                       \n",
       "6                                                   Amends the date the president of the state civil service commission shall complete a study on the current civil service examination process                       \n",
       "7                                                                       Relates to complaints served in a proceeding initiated on a residential mortgage covering a one to four family dwelling                       \n",
       "8                                                                                                         Prevents institutions from implementing contingencies on the receipt of state funding                       \n",
       "9                                                                Relates to certain functions of the office of addiction services and supports, and to use of the term incarcerated individuals                       \n",
       "10                                                                                       Authorizes the return of any operating reserve balances of members of a municipal insurance reciprocal                       \n",
       "11                                                                                                                                                          Criminalizes the sale of ghost guns                       \n",
       "12                                                        Directs the president of the state civil service commission to publish reports annually relating to diversity within state government                       \n",
       "13                                                                                                                                           Relates to the firearm violence research institute                       \n",
       "14                                                           Directs the commissioner of health to establish and implement an infection inspection control audit and checklist on nursing homes                       \n",
       "15                          Requires real estate brokers to institute standardized operating procedures for the prerequisites prospective homebuyers shall meet prior to receiving any services                       \n",
       "16                                                                                                                        Relates to the awarding of attorney's fees under the human rights law                       \n",
       "17                                                                 Relates to freedom of information law disclosures related to law enforcement related records and records identifying victims                       \n",
       "18                                                                                                                                   Relation to fiber-based services being provided to tenants                       \n",
       "19                                                                                                                                                  Relates to actions for non-payment of wages                       \n",
       "\n",
       "                                                                              bill_date  \\\n",
       "0                            April 9, 2022  |  Signed by Governor                         \n",
       "1                            April 9, 2022  |  Signed by Governor                         \n",
       "2                            April 4, 2022  |  Signed by Governor                         \n",
       "3                            April 1, 2022  |  Signed by Governor                         \n",
       "4                           March 26, 2022  |  Signed by Governor                         \n",
       "5                           March 18, 2022  |  Signed by Governor                         \n",
       "6                           March 18, 2022  |  Signed by Governor                         \n",
       "7                           March 18, 2022  |  Signed by Governor                         \n",
       "8                           March 18, 2022  |  Signed by Governor                         \n",
       "9                           March 18, 2022  |  Signed by Governor                         \n",
       "10                          March 18, 2022  |  Signed by Governor                         \n",
       "11                          March 18, 2022  |  Signed by Governor                         \n",
       "12                          March 18, 2022  |  Signed by Governor                         \n",
       "13                          March 18, 2022  |  Signed by Governor                         \n",
       "14                          March 18, 2022  |  Signed by Governor                         \n",
       "15                          March 18, 2022  |  Signed by Governor                         \n",
       "16                          March 18, 2022  |  Signed by Governor                         \n",
       "17                          March 18, 2022  |  Signed by Governor                         \n",
       "18                          March 18, 2022  |  Signed by Governor                         \n",
       "19                          March 18, 2022  |  Signed by Governor                         \n",
       "\n",
       "                                             bill_sponsor  \n",
       "0                                                          \n",
       "1                            JACKSON                       \n",
       "2                            KRUEGER                       \n",
       "3                            HEASTIE                       \n",
       "4                              MAYER                       \n",
       "5                            BRESLIN                       \n",
       "6                          SEPULVEDA                       \n",
       "7                             COMRIE                       \n",
       "8                           STAVISKY                       \n",
       "9                             BAILEY                       \n",
       "10                           BRESLIN                       \n",
       "11                           HOYLMAN                       \n",
       "12                            PARKER                       \n",
       "13                           PERSAUD                       \n",
       "14                           SKOUFIS                       \n",
       "15                           SKOUFIS                       \n",
       "16                            BIAGGI                       \n",
       "17                           SKOUFIS                       \n",
       "18                            PARKER                       \n",
       "19                             RAMOS                       "
      ]
     },
     "execution_count": 6,
     "metadata": {},
     "output_type": "execute_result"
    }
   ],
   "source": [
    "import pandas as pd\n",
    "df_bills = pd.DataFrame(page_numbers_main_list)\n",
    "pd.set_option(\"display.max_colwidth\", None)\n",
    "df_bills"
   ]
  },
  {
   "cell_type": "code",
   "execution_count": null,
   "id": "9194223b",
   "metadata": {},
   "outputs": [],
   "source": [
    "# df_bills.to_excel(\"all_bills.xlsx\")"
   ]
  },
  {
   "cell_type": "markdown",
   "id": "97754bb0",
   "metadata": {},
   "source": [
    "# ----------------------------------------------------------------------------------------"
   ]
  },
  {
   "cell_type": "markdown",
   "id": "e13b2373",
   "metadata": {},
   "source": [
    "# Getting law categories"
   ]
  },
  {
   "cell_type": "code",
   "execution_count": null,
   "id": "9333ce6c",
   "metadata": {},
   "outputs": [],
   "source": [
    "def signed_bills_law_section(href):\n",
    "    raw_html = requests.get(href).content\n",
    "    soup_doc = BeautifulSoup(raw_html, \"html.parser\")\n",
    "    \n",
    "    law_section = soup_doc.find_all(\"div\", class_=\"c-block c-bill-section c-bill--details\")[0].find_all(\"dd\")[1].text\n",
    "    return law_section"
   ]
  },
  {
   "cell_type": "code",
   "execution_count": null,
   "id": "efc788c3",
   "metadata": {},
   "outputs": [],
   "source": [
    "bill_new_numbers = [bill_dict[\"bill_number\"] for bill_dict in page_numbers_main_list]"
   ]
  },
  {
   "cell_type": "code",
   "execution_count": null,
   "id": "9d6028ad",
   "metadata": {},
   "outputs": [],
   "source": [
    "print(bill_new_numbers)"
   ]
  },
  {
   "cell_type": "code",
   "execution_count": null,
   "id": "86db88fa",
   "metadata": {},
   "outputs": [],
   "source": [
    "bill_numbers_main_list = []\n",
    "for bill in bill_new_numbers:\n",
    "    href = \"https://www.nysenate.gov/legislation/bills/2021/\" + bill\n",
    "    bill_list_sections = signed_bills_law_section(href)\n",
    "    \n",
    "    bill_numbers_main_list.append({\"bill_number\": bill, \"bill_section\": bill_list_sections})"
   ]
  },
  {
   "cell_type": "code",
   "execution_count": null,
   "id": "1f2d278e",
   "metadata": {},
   "outputs": [],
   "source": [
    "df_bill_sections = pd.DataFrame(bill_numbers_main_list)\n",
    "pd.set_option(\"display.max_colwidth\", None)\n",
    "df_bill_sections"
   ]
  },
  {
   "cell_type": "code",
   "execution_count": null,
   "id": "4a573f8c",
   "metadata": {},
   "outputs": [],
   "source": [
    "df_bills.set_index('bill_number').join(df_bill_sections.set_index('bill_number'))"
   ]
  },
  {
   "cell_type": "code",
   "execution_count": null,
   "id": "40bbf1d4",
   "metadata": {},
   "outputs": [],
   "source": [
    "df_bills.shape"
   ]
  },
  {
   "cell_type": "code",
   "execution_count": null,
   "id": "471cef48",
   "metadata": {},
   "outputs": [],
   "source": [
    "df_bill_sections.shape"
   ]
  },
  {
   "cell_type": "code",
   "execution_count": null,
   "id": "8b1360d1",
   "metadata": {},
   "outputs": [],
   "source": [
    "df = df_bills.join(df_bill_sections.set_index('bill_number'), on='bill_number')"
   ]
  },
  {
   "cell_type": "code",
   "execution_count": null,
   "id": "aa9aa829",
   "metadata": {},
   "outputs": [],
   "source": [
    "df.columns"
   ]
  },
  {
   "cell_type": "code",
   "execution_count": null,
   "id": "554583be",
   "metadata": {},
   "outputs": [],
   "source": [
    "df.bill_number.nunique()"
   ]
  },
  {
   "cell_type": "code",
   "execution_count": null,
   "id": "3478526b",
   "metadata": {},
   "outputs": [],
   "source": [
    "df_bills.bill_number.nunique()"
   ]
  },
  {
   "cell_type": "code",
   "execution_count": null,
   "id": "789c3876",
   "metadata": {},
   "outputs": [],
   "source": [
    "df_bill_sections.bill_number.nunique()"
   ]
  },
  {
   "cell_type": "code",
   "execution_count": null,
   "id": "38da7507",
   "metadata": {},
   "outputs": [],
   "source": [
    "df"
   ]
  },
  {
   "cell_type": "code",
   "execution_count": null,
   "id": "cafb062f",
   "metadata": {},
   "outputs": [],
   "source": [
    "df.bill_section.value_counts().head(5).plot(kind='barh')"
   ]
  },
  {
   "cell_type": "markdown",
   "id": "db3b683d",
   "metadata": {},
   "source": [
    "# -------------------------------------------------------------------------------------------"
   ]
  },
  {
   "cell_type": "code",
   "execution_count": 8,
   "id": "25e857fd",
   "metadata": {},
   "outputs": [
    {
     "data": {
      "text/plain": [
       "['https://www.nysenate.gov/legislation/bills/2021/a9002',\n",
       " 'https://www.nysenate.gov/legislation/bills/2021/s8748',\n",
       " 'https://www.nysenate.gov/legislation/bills/2021/s8715',\n",
       " 'https://www.nysenate.gov/legislation/bills/2021/a9607',\n",
       " 'https://www.nysenate.gov/legislation/bills/2021/s7619',\n",
       " 'https://www.nysenate.gov/legislation/bills/2021/s7692',\n",
       " 'https://www.nysenate.gov/legislation/bills/2021/s7695',\n",
       " 'https://www.nysenate.gov/legislation/bills/2021/s7698',\n",
       " 'https://www.nysenate.gov/legislation/bills/2021/s7699',\n",
       " 'https://www.nysenate.gov/legislation/bills/2021/s7703',\n",
       " 'https://www.nysenate.gov/legislation/bills/2021/s7704',\n",
       " 'https://www.nysenate.gov/legislation/bills/2021/s7705',\n",
       " 'https://www.nysenate.gov/legislation/bills/2021/s7711',\n",
       " 'https://www.nysenate.gov/legislation/bills/2021/s7716',\n",
       " 'https://www.nysenate.gov/legislation/bills/2021/s7726',\n",
       " 'https://www.nysenate.gov/legislation/bills/2021/s7729',\n",
       " 'https://www.nysenate.gov/legislation/bills/2021/s7733',\n",
       " 'https://www.nysenate.gov/legislation/bills/2021/s7734',\n",
       " 'https://www.nysenate.gov/legislation/bills/2021/s7766',\n",
       " 'https://www.nysenate.gov/legislation/bills/2021/s7773']"
      ]
     },
     "execution_count": 8,
     "metadata": {},
     "output_type": "execute_result"
    }
   ],
   "source": [
    "links_list = df_bills.bill_link.tolist()"
   ]
  },
  {
   "cell_type": "code",
   "execution_count": 11,
   "id": "9feda42f",
   "metadata": {},
   "outputs": [
    {
     "ename": "IndexError",
     "evalue": "list index out of range",
     "output_type": "error",
     "traceback": [
      "\u001b[0;31m---------------------------------------------------------------------------\u001b[0m",
      "\u001b[0;31mIndexError\u001b[0m                                Traceback (most recent call last)",
      "\u001b[0;32m/var/folders/81/2s24wkdd02j9528vnjsx7m080000gn/T/ipykernel_45384/553313535.py\u001b[0m in \u001b[0;36m<module>\u001b[0;34m\u001b[0m\n\u001b[1;32m      3\u001b[0m \u001b[0mbill_numbers_main_list\u001b[0m \u001b[0;34m=\u001b[0m \u001b[0;34m[\u001b[0m\u001b[0;34m]\u001b[0m\u001b[0;34m\u001b[0m\u001b[0;34m\u001b[0m\u001b[0m\n\u001b[1;32m      4\u001b[0m \u001b[0;32mfor\u001b[0m \u001b[0meach_link\u001b[0m \u001b[0;32min\u001b[0m \u001b[0mlinks_list\u001b[0m\u001b[0;34m:\u001b[0m\u001b[0;34m\u001b[0m\u001b[0;34m\u001b[0m\u001b[0m\n\u001b[0;32m----> 5\u001b[0;31m     \u001b[0mlaw_section\u001b[0m \u001b[0;34m=\u001b[0m \u001b[0msoup_doc\u001b[0m\u001b[0;34m.\u001b[0m\u001b[0mfind_all\u001b[0m\u001b[0;34m(\u001b[0m\u001b[0;34m\"div\"\u001b[0m\u001b[0;34m,\u001b[0m \u001b[0mclass_\u001b[0m\u001b[0;34m=\u001b[0m\u001b[0;34m\"c-block c-bill-section c-bill--details\"\u001b[0m\u001b[0;34m)\u001b[0m\u001b[0;34m[\u001b[0m\u001b[0;36m0\u001b[0m\u001b[0;34m]\u001b[0m\u001b[0;34m.\u001b[0m\u001b[0mfind_all\u001b[0m\u001b[0;34m(\u001b[0m\u001b[0;34m\"dd\"\u001b[0m\u001b[0;34m)\u001b[0m\u001b[0;34m[\u001b[0m\u001b[0;36m1\u001b[0m\u001b[0;34m]\u001b[0m\u001b[0;34m.\u001b[0m\u001b[0mtext\u001b[0m\u001b[0;34m\u001b[0m\u001b[0;34m\u001b[0m\u001b[0m\n\u001b[0m\u001b[1;32m      6\u001b[0m     \u001b[0mbill_list_sections\u001b[0m \u001b[0;34m=\u001b[0m \u001b[0msigned_bills_law_section\u001b[0m\u001b[0;34m(\u001b[0m\u001b[0meach_link\u001b[0m\u001b[0;34m)\u001b[0m\u001b[0;34m\u001b[0m\u001b[0;34m\u001b[0m\u001b[0m\n\u001b[1;32m      7\u001b[0m     \u001b[0mbill_numbers_main_list\u001b[0m\u001b[0;34m.\u001b[0m\u001b[0mappend\u001b[0m\u001b[0;34m(\u001b[0m\u001b[0;34m{\u001b[0m\u001b[0;34m\"bill_section\"\u001b[0m\u001b[0;34m:\u001b[0m \u001b[0mbill_list_sections\u001b[0m\u001b[0;34m}\u001b[0m\u001b[0;34m)\u001b[0m\u001b[0;34m\u001b[0m\u001b[0;34m\u001b[0m\u001b[0m\n",
      "\u001b[0;31mIndexError\u001b[0m: list index out of range"
     ]
    }
   ],
   "source": [
    "raw_html = requests.get(href).content\n",
    "soup_doc = BeautifulSoup(raw_html, \"html.parser\")\n",
    "bill_numbers_main_list = []\n",
    "for each_link in links_list:\n",
    "    law_section = soup_doc.find_all(\"div\", class_=\"c-block c-bill-section c-bill--details\")[0].find_all(\"dd\")[1].text\n",
    "    bill_list_sections = signed_bills_law_section(each_link)\n",
    "    bill_numbers_main_list.append({\"bill_section\": bill_list_sections})"
   ]
  },
  {
   "cell_type": "code",
   "execution_count": null,
   "id": "7e5a87dc",
   "metadata": {},
   "outputs": [],
   "source": [
    "import pandas as pd\n",
    "df = pd.DataFrame(bill_numbers_main_list)\n",
    "df"
   ]
  },
  {
   "cell_type": "code",
   "execution_count": null,
   "id": "c20be2ee",
   "metadata": {},
   "outputs": [],
   "source": []
  }
 ],
 "metadata": {
  "kernelspec": {
   "display_name": "Python 3 (ipykernel)",
   "language": "python",
   "name": "python3"
  },
  "language_info": {
   "codemirror_mode": {
    "name": "ipython",
    "version": 3
   },
   "file_extension": ".py",
   "mimetype": "text/x-python",
   "name": "python",
   "nbconvert_exporter": "python",
   "pygments_lexer": "ipython3",
   "version": "3.10.0"
  }
 },
 "nbformat": 4,
 "nbformat_minor": 5
}
