{
 "cells": [
  {
   "cell_type": "code",
   "execution_count": 1,
   "id": "31818dbb",
   "metadata": {},
   "outputs": [
    {
     "name": "stderr",
     "output_type": "stream",
     "text": [
      "/Users/areena.arora/.pyenv/versions/3.10.0/lib/python3.10/site-packages/pandas/compat/__init__.py:124: UserWarning: Could not import the lzma module. Your installed Python is incomplete. Attempting to use lzma compression will result in a RuntimeError.\n",
      "  warnings.warn(msg)\n"
     ]
    }
   ],
   "source": [
    "import pandas as pd\n",
    "df = pd.read_csv('ten-year-scrape.csv', encoding= 'unicode_escape')\n",
    "df.columns = df.columns.str.replace(\" \", \"_\")\n",
    "df.columns = df.columns.str.replace(\"-\", \"_\")\n",
    "df.columns = df.columns.str.lower()\n",
    "pd.set_option('display.max_columns', None)"
   ]
  },
  {
   "cell_type": "code",
   "execution_count": 2,
   "id": "01b79845",
   "metadata": {},
   "outputs": [
    {
     "data": {
      "text/html": [
       "<div>\n",
       "<style scoped>\n",
       "    .dataframe tbody tr th:only-of-type {\n",
       "        vertical-align: middle;\n",
       "    }\n",
       "\n",
       "    .dataframe tbody tr th {\n",
       "        vertical-align: top;\n",
       "    }\n",
       "\n",
       "    .dataframe thead th {\n",
       "        text-align: right;\n",
       "    }\n",
       "</style>\n",
       "<table border=\"1\" class=\"dataframe\">\n",
       "  <thead>\n",
       "    <tr style=\"text-align: right;\">\n",
       "      <th></th>\n",
       "      <th>bill_number</th>\n",
       "      <th>bill_link</th>\n",
       "      <th>bill_description</th>\n",
       "      <th>bill_date</th>\n",
       "      <th>bill_section</th>\n",
       "      <th>bill_sponsor</th>\n",
       "      <th>sponsor_party</th>\n",
       "      <th>sponsor_name</th>\n",
       "    </tr>\n",
       "  </thead>\n",
       "  <tbody>\n",
       "    <tr>\n",
       "      <th>0</th>\n",
       "      <td>S7728</td>\n",
       "      <td>https://www.nysenate.gov/legislation/bills/201...</td>\n",
       "      <td>Establishes a beer production tax credit for b...</td>\n",
       "      <td>July 18, 2012</td>\n",
       "      <td>Tax</td>\n",
       "      <td>ZELDIN</td>\n",
       "      <td>Republican</td>\n",
       "      <td>Lee Zeldin</td>\n",
       "    </tr>\n",
       "    <tr>\n",
       "      <th>1</th>\n",
       "      <td>S6193</td>\n",
       "      <td>https://www.nysenate.gov/legislation/bills/201...</td>\n",
       "      <td>Authorizes assessor of the town of Islip, coun...</td>\n",
       "      <td>July 18, 2012</td>\n",
       "      <td>Property Tax</td>\n",
       "      <td>ZELDIN</td>\n",
       "      <td>Republican</td>\n",
       "      <td>Lee Zeldin</td>\n",
       "    </tr>\n",
       "    <tr>\n",
       "      <th>2</th>\n",
       "      <td>S7131</td>\n",
       "      <td>https://www.nysenate.gov/legislation/bills/201...</td>\n",
       "      <td>Relates to limiting base proportion for the 20...</td>\n",
       "      <td>June 29, 2012</td>\n",
       "      <td>Property Tax</td>\n",
       "      <td>ZELDIN</td>\n",
       "      <td>Republican</td>\n",
       "      <td>Lee Zeldin</td>\n",
       "    </tr>\n",
       "  </tbody>\n",
       "</table>\n",
       "</div>"
      ],
      "text/plain": [
       "  bill_number                                          bill_link  \\\n",
       "0       S7728  https://www.nysenate.gov/legislation/bills/201...   \n",
       "1       S6193  https://www.nysenate.gov/legislation/bills/201...   \n",
       "2       S7131  https://www.nysenate.gov/legislation/bills/201...   \n",
       "\n",
       "                                    bill_description       bill_date  \\\n",
       "0  Establishes a beer production tax credit for b...   July 18, 2012   \n",
       "1  Authorizes assessor of the town of Islip, coun...   July 18, 2012   \n",
       "2  Relates to limiting base proportion for the 20...   June 29, 2012   \n",
       "\n",
       "   bill_section bill_sponsor sponsor_party sponsor_name  \n",
       "0          Tax        ZELDIN    Republican   Lee Zeldin  \n",
       "1  Property Tax       ZELDIN    Republican   Lee Zeldin  \n",
       "2  Property Tax       ZELDIN    Republican   Lee Zeldin  "
      ]
     },
     "execution_count": 2,
     "metadata": {},
     "output_type": "execute_result"
    }
   ],
   "source": [
    "df.head(3)"
   ]
  },
  {
   "cell_type": "code",
   "execution_count": 3,
   "id": "3b510507",
   "metadata": {},
   "outputs": [
    {
     "data": {
      "text/plain": [
       "221"
      ]
     },
     "execution_count": 3,
     "metadata": {},
     "output_type": "execute_result"
    }
   ],
   "source": [
    "df.bill_section.nunique()"
   ]
  },
  {
   "cell_type": "code",
   "execution_count": 4,
   "id": "5b8d6b0b",
   "metadata": {},
   "outputs": [
    {
     "data": {
      "text/plain": [
       "bill_number         object\n",
       "bill_link           object\n",
       "bill_description    object\n",
       "bill_date           object\n",
       "bill_section        object\n",
       "bill_sponsor        object\n",
       "sponsor_party       object\n",
       "sponsor_name        object\n",
       "dtype: object"
      ]
     },
     "execution_count": 4,
     "metadata": {},
     "output_type": "execute_result"
    }
   ],
   "source": [
    "df.dtypes"
   ]
  },
  {
   "cell_type": "code",
   "execution_count": 5,
   "id": "80e81f36",
   "metadata": {},
   "outputs": [
    {
     "data": {
      "text/plain": [
       "Tax                           386\n",
       "Property Tax                  314\n",
       "Environmental Conservation    281\n",
       "Public Health                 266\n",
       "Education                     257\n",
       "Name: bill_section, dtype: int64"
      ]
     },
     "execution_count": 5,
     "metadata": {},
     "output_type": "execute_result"
    }
   ],
   "source": [
    "df.bill_section.value_counts().head(5)"
   ]
  },
  {
   "cell_type": "code",
   "execution_count": 6,
   "id": "e9da6cfd",
   "metadata": {},
   "outputs": [
    {
     "data": {
      "text/plain": [
       "<AxesSubplot:>"
      ]
     },
     "execution_count": 6,
     "metadata": {},
     "output_type": "execute_result"
    },
    {
     "data": {
      "image/png": "[encoded data removed]",
      "text/plain": [
       "<Figure size 432x288 with 1 Axes>"
      ]
     },
     "metadata": {
      "needs_background": "light"
     },
     "output_type": "display_data"
    }
   ],
   "source": [
    "df.bill_section.value_counts().head(5).plot(kind='barh')"
   ]
  },
  {
   "cell_type": "code",
   "execution_count": 7,
   "id": "daab5046",
   "metadata": {},
   "outputs": [
    {
     "data": {
      "text/plain": [
       "sponsor_party\n",
       "Democrat              3339\n",
       "Independence Party      55\n",
       "Independent              6\n",
       "Republican            1538\n",
       "Name: bill_section, dtype: int64"
      ]
     },
     "execution_count": 7,
     "metadata": {},
     "output_type": "execute_result"
    }
   ],
   "source": [
    "df.groupby(by='sponsor_party').bill_section.count()"
   ]
  },
  {
   "cell_type": "code",
   "execution_count": 8,
   "id": "7e3657bb",
   "metadata": {},
   "outputs": [
    {
     "data": {
      "text/plain": [
       "Tax                               186\n",
       "Property Tax                      110\n",
       "Highway                            85\n",
       "Environmental Conservation         83\n",
       "Retirement and Social Security     80\n",
       "Name: bill_section, dtype: int64"
      ]
     },
     "execution_count": 8,
     "metadata": {},
     "output_type": "execute_result"
    }
   ],
   "source": [
    "df.query('sponsor_party == \"Republican\"').bill_section.value_counts().head(5)"
   ]
  },
  {
   "cell_type": "code",
   "execution_count": 9,
   "id": "64a521c1",
   "metadata": {},
   "outputs": [
    {
     "data": {
      "text/plain": [
       "Public Health                 204\n",
       "Property Tax                  198\n",
       "Environmental Conservation    188\n",
       "Education                     186\n",
       "Tax                           173\n",
       "Name: bill_section, dtype: int64"
      ]
     },
     "execution_count": 9,
     "metadata": {},
     "output_type": "execute_result"
    }
   ],
   "source": [
    "df.query('sponsor_party == \"Democrat\"').bill_section.value_counts().head(5)"
   ]
  },
  {
   "cell_type": "code",
   "execution_count": 10,
   "id": "2eb846f0",
   "metadata": {},
   "outputs": [
    {
     "data": {
      "text/html": [
       "<div>\n",
       "<style scoped>\n",
       "    .dataframe tbody tr th:only-of-type {\n",
       "        vertical-align: middle;\n",
       "    }\n",
       "\n",
       "    .dataframe tbody tr th {\n",
       "        vertical-align: top;\n",
       "    }\n",
       "\n",
       "    .dataframe thead th {\n",
       "        text-align: right;\n",
       "    }\n",
       "</style>\n",
       "<table border=\"1\" class=\"dataframe\">\n",
       "  <thead>\n",
       "    <tr style=\"text-align: right;\">\n",
       "      <th></th>\n",
       "      <th>bill_number</th>\n",
       "      <th>bill_link</th>\n",
       "      <th>bill_description</th>\n",
       "      <th>bill_date</th>\n",
       "      <th>bill_section</th>\n",
       "      <th>bill_sponsor</th>\n",
       "      <th>sponsor_name</th>\n",
       "    </tr>\n",
       "    <tr>\n",
       "      <th>sponsor_party</th>\n",
       "      <th></th>\n",
       "      <th></th>\n",
       "      <th></th>\n",
       "      <th></th>\n",
       "      <th></th>\n",
       "      <th></th>\n",
       "      <th></th>\n",
       "    </tr>\n",
       "  </thead>\n",
       "  <tbody>\n",
       "    <tr>\n",
       "      <th>Democrat</th>\n",
       "      <td>8</td>\n",
       "      <td>8</td>\n",
       "      <td>8</td>\n",
       "      <td>8</td>\n",
       "      <td>8</td>\n",
       "      <td>8</td>\n",
       "      <td>8</td>\n",
       "    </tr>\n",
       "    <tr>\n",
       "      <th>Republican</th>\n",
       "      <td>6</td>\n",
       "      <td>6</td>\n",
       "      <td>6</td>\n",
       "      <td>6</td>\n",
       "      <td>6</td>\n",
       "      <td>6</td>\n",
       "      <td>6</td>\n",
       "    </tr>\n",
       "  </tbody>\n",
       "</table>\n",
       "</div>"
      ],
      "text/plain": [
       "               bill_number  bill_link  bill_description  bill_date  \\\n",
       "sponsor_party                                                        \n",
       "Democrat                 8          8                 8          8   \n",
       "Republican               6          6                 6          6   \n",
       "\n",
       "               bill_section  bill_sponsor  sponsor_name  \n",
       "sponsor_party                                            \n",
       "Democrat                  8             8             8  \n",
       "Republican                6             6             6  "
      ]
     },
     "execution_count": 10,
     "metadata": {},
     "output_type": "execute_result"
    }
   ],
   "source": [
    "df.query('bill_section == \"Military and veterans\"').groupby(by='sponsor_party').count()"
   ]
  },
  {
   "cell_type": "code",
   "execution_count": 11,
   "id": "7fe28978",
   "metadata": {},
   "outputs": [
    {
     "data": {
      "text/html": [
       "<div>\n",
       "<style scoped>\n",
       "    .dataframe tbody tr th:only-of-type {\n",
       "        vertical-align: middle;\n",
       "    }\n",
       "\n",
       "    .dataframe tbody tr th {\n",
       "        vertical-align: top;\n",
       "    }\n",
       "\n",
       "    .dataframe thead th {\n",
       "        text-align: right;\n",
       "    }\n",
       "</style>\n",
       "<table border=\"1\" class=\"dataframe\">\n",
       "  <thead>\n",
       "    <tr style=\"text-align: right;\">\n",
       "      <th></th>\n",
       "      <th>bill_number</th>\n",
       "      <th>bill_link</th>\n",
       "      <th>bill_description</th>\n",
       "      <th>bill_date</th>\n",
       "      <th>bill_section</th>\n",
       "      <th>bill_sponsor</th>\n",
       "      <th>sponsor_name</th>\n",
       "    </tr>\n",
       "    <tr>\n",
       "      <th>sponsor_party</th>\n",
       "      <th></th>\n",
       "      <th></th>\n",
       "      <th></th>\n",
       "      <th></th>\n",
       "      <th></th>\n",
       "      <th></th>\n",
       "      <th></th>\n",
       "    </tr>\n",
       "  </thead>\n",
       "  <tbody>\n",
       "    <tr>\n",
       "      <th>Democrat</th>\n",
       "      <td>188</td>\n",
       "      <td>188</td>\n",
       "      <td>188</td>\n",
       "      <td>188</td>\n",
       "      <td>188</td>\n",
       "      <td>188</td>\n",
       "      <td>188</td>\n",
       "    </tr>\n",
       "    <tr>\n",
       "      <th>Independence Party</th>\n",
       "      <td>10</td>\n",
       "      <td>10</td>\n",
       "      <td>10</td>\n",
       "      <td>10</td>\n",
       "      <td>10</td>\n",
       "      <td>10</td>\n",
       "      <td>10</td>\n",
       "    </tr>\n",
       "    <tr>\n",
       "      <th>Republican</th>\n",
       "      <td>83</td>\n",
       "      <td>83</td>\n",
       "      <td>83</td>\n",
       "      <td>83</td>\n",
       "      <td>83</td>\n",
       "      <td>83</td>\n",
       "      <td>83</td>\n",
       "    </tr>\n",
       "  </tbody>\n",
       "</table>\n",
       "</div>"
      ],
      "text/plain": [
       "                    bill_number  bill_link  bill_description  bill_date  \\\n",
       "sponsor_party                                                             \n",
       "Democrat                    188        188               188        188   \n",
       "Independence Party           10         10                10         10   \n",
       "Republican                   83         83                83         83   \n",
       "\n",
       "                    bill_section  bill_sponsor  sponsor_name  \n",
       "sponsor_party                                                 \n",
       "Democrat                     188           188           188  \n",
       "Independence Party            10            10            10  \n",
       "Republican                    83            83            83  "
      ]
     },
     "execution_count": 11,
     "metadata": {},
     "output_type": "execute_result"
    }
   ],
   "source": [
    "df.query('bill_section == \"Environmental Conservation\"').groupby(by='sponsor_party').count()"
   ]
  },
  {
   "cell_type": "code",
   "execution_count": 12,
   "id": "d0e85749",
   "metadata": {},
   "outputs": [
    {
     "data": {
      "text/plain": [
       "Tax                           386\n",
       "Property Tax                  314\n",
       "Environmental Conservation    281\n",
       "Public Health                 266\n",
       "Education                     257\n",
       "                             ... \n",
       "Personal Property               1\n",
       "General Construction            1\n",
       "Genesee County                  1\n",
       "St. rence County                1\n",
       "Dutchess County                 1\n",
       "Name: bill_section, Length: 221, dtype: int64"
      ]
     },
     "execution_count": 12,
     "metadata": {},
     "output_type": "execute_result"
    }
   ],
   "source": [
    "df.bill_section.value_counts()"
   ]
  },
  {
   "cell_type": "code",
   "execution_count": 13,
   "id": "2c48be3d",
   "metadata": {},
   "outputs": [
    {
     "data": {
      "text/html": [
       "<div>\n",
       "<style scoped>\n",
       "    .dataframe tbody tr th:only-of-type {\n",
       "        vertical-align: middle;\n",
       "    }\n",
       "\n",
       "    .dataframe tbody tr th {\n",
       "        vertical-align: top;\n",
       "    }\n",
       "\n",
       "    .dataframe thead th {\n",
       "        text-align: right;\n",
       "    }\n",
       "</style>\n",
       "<table border=\"1\" class=\"dataframe\">\n",
       "  <thead>\n",
       "    <tr style=\"text-align: right;\">\n",
       "      <th></th>\n",
       "      <th>bill_number</th>\n",
       "      <th>bill_link</th>\n",
       "      <th>bill_description</th>\n",
       "      <th>bill_date</th>\n",
       "      <th>bill_section</th>\n",
       "      <th>bill_sponsor</th>\n",
       "      <th>sponsor_name</th>\n",
       "    </tr>\n",
       "    <tr>\n",
       "      <th>sponsor_party</th>\n",
       "      <th></th>\n",
       "      <th></th>\n",
       "      <th></th>\n",
       "      <th></th>\n",
       "      <th></th>\n",
       "      <th></th>\n",
       "      <th></th>\n",
       "    </tr>\n",
       "  </thead>\n",
       "  <tbody>\n",
       "    <tr>\n",
       "      <th>Democrat</th>\n",
       "      <td>204</td>\n",
       "      <td>204</td>\n",
       "      <td>204</td>\n",
       "      <td>204</td>\n",
       "      <td>204</td>\n",
       "      <td>204</td>\n",
       "      <td>204</td>\n",
       "    </tr>\n",
       "    <tr>\n",
       "      <th>Republican</th>\n",
       "      <td>58</td>\n",
       "      <td>58</td>\n",
       "      <td>58</td>\n",
       "      <td>58</td>\n",
       "      <td>58</td>\n",
       "      <td>58</td>\n",
       "      <td>58</td>\n",
       "    </tr>\n",
       "  </tbody>\n",
       "</table>\n",
       "</div>"
      ],
      "text/plain": [
       "               bill_number  bill_link  bill_description  bill_date  \\\n",
       "sponsor_party                                                        \n",
       "Democrat               204        204               204        204   \n",
       "Republican              58         58                58         58   \n",
       "\n",
       "               bill_section  bill_sponsor  sponsor_name  \n",
       "sponsor_party                                            \n",
       "Democrat                204           204           204  \n",
       "Republican               58            58            58  "
      ]
     },
     "execution_count": 13,
     "metadata": {},
     "output_type": "execute_result"
    }
   ],
   "source": [
    "df.query('bill_section == \"Public Health\"').groupby(by='sponsor_party').count()"
   ]
  },
  {
   "cell_type": "code",
   "execution_count": 14,
   "id": "e15867f1",
   "metadata": {},
   "outputs": [
    {
     "data": {
      "text/plain": [
       "Democrat              3339\n",
       "Republican            1538\n",
       "Independence Party      55\n",
       "Independent              6\n",
       "Name: sponsor_party, dtype: int64"
      ]
     },
     "execution_count": 14,
     "metadata": {},
     "output_type": "execute_result"
    }
   ],
   "source": [
    "df.sponsor_party.value_counts()"
   ]
  },
  {
   "cell_type": "code",
   "execution_count": 15,
   "id": "844704f8",
   "metadata": {},
   "outputs": [],
   "source": [
    "df['bill_date'] = pd.to_datetime(df['bill_date'], errors='coerce')"
   ]
  },
  {
   "cell_type": "code",
   "execution_count": 16,
   "id": "016acd5b",
   "metadata": {},
   "outputs": [
    {
     "data": {
      "text/html": [
       "<div>\n",
       "<style scoped>\n",
       "    .dataframe tbody tr th:only-of-type {\n",
       "        vertical-align: middle;\n",
       "    }\n",
       "\n",
       "    .dataframe tbody tr th {\n",
       "        vertical-align: top;\n",
       "    }\n",
       "\n",
       "    .dataframe thead th {\n",
       "        text-align: right;\n",
       "    }\n",
       "</style>\n",
       "<table border=\"1\" class=\"dataframe\">\n",
       "  <thead>\n",
       "    <tr style=\"text-align: right;\">\n",
       "      <th></th>\n",
       "      <th>bill_number</th>\n",
       "      <th>bill_link</th>\n",
       "      <th>bill_description</th>\n",
       "      <th>bill_date</th>\n",
       "      <th>bill_section</th>\n",
       "      <th>bill_sponsor</th>\n",
       "      <th>sponsor_party</th>\n",
       "      <th>sponsor_name</th>\n",
       "    </tr>\n",
       "  </thead>\n",
       "  <tbody>\n",
       "    <tr>\n",
       "      <th>0</th>\n",
       "      <td>S7728</td>\n",
       "      <td>https://www.nysenate.gov/legislation/bills/201...</td>\n",
       "      <td>Establishes a beer production tax credit for b...</td>\n",
       "      <td>2012-07-18</td>\n",
       "      <td>Tax</td>\n",
       "      <td>ZELDIN</td>\n",
       "      <td>Republican</td>\n",
       "      <td>Lee Zeldin</td>\n",
       "    </tr>\n",
       "    <tr>\n",
       "      <th>1</th>\n",
       "      <td>S6193</td>\n",
       "      <td>https://www.nysenate.gov/legislation/bills/201...</td>\n",
       "      <td>Authorizes assessor of the town of Islip, coun...</td>\n",
       "      <td>2012-07-18</td>\n",
       "      <td>Property Tax</td>\n",
       "      <td>ZELDIN</td>\n",
       "      <td>Republican</td>\n",
       "      <td>Lee Zeldin</td>\n",
       "    </tr>\n",
       "    <tr>\n",
       "      <th>2</th>\n",
       "      <td>S7131</td>\n",
       "      <td>https://www.nysenate.gov/legislation/bills/201...</td>\n",
       "      <td>Relates to limiting base proportion for the 20...</td>\n",
       "      <td>2012-06-29</td>\n",
       "      <td>Property Tax</td>\n",
       "      <td>ZELDIN</td>\n",
       "      <td>Republican</td>\n",
       "      <td>Lee Zeldin</td>\n",
       "    </tr>\n",
       "    <tr>\n",
       "      <th>3</th>\n",
       "      <td>S5196</td>\n",
       "      <td>https://www.nysenate.gov/legislation/bills/201...</td>\n",
       "      <td>Relates to the regulation of certain types of ...</td>\n",
       "      <td>2011-08-17</td>\n",
       "      <td>Environmental Conservation</td>\n",
       "      <td>ZELDIN</td>\n",
       "      <td>Republican</td>\n",
       "      <td>Lee Zeldin</td>\n",
       "    </tr>\n",
       "  </tbody>\n",
       "</table>\n",
       "</div>"
      ],
      "text/plain": [
       "  bill_number                                          bill_link  \\\n",
       "0       S7728  https://www.nysenate.gov/legislation/bills/201...   \n",
       "1       S6193  https://www.nysenate.gov/legislation/bills/201...   \n",
       "2       S7131  https://www.nysenate.gov/legislation/bills/201...   \n",
       "3       S5196  https://www.nysenate.gov/legislation/bills/201...   \n",
       "\n",
       "                                    bill_description  bill_date  \\\n",
       "0  Establishes a beer production tax credit for b... 2012-07-18   \n",
       "1  Authorizes assessor of the town of Islip, coun... 2012-07-18   \n",
       "2  Relates to limiting base proportion for the 20... 2012-06-29   \n",
       "3  Relates to the regulation of certain types of ... 2011-08-17   \n",
       "\n",
       "                 bill_section bill_sponsor sponsor_party sponsor_name  \n",
       "0                        Tax        ZELDIN    Republican   Lee Zeldin  \n",
       "1                Property Tax       ZELDIN    Republican   Lee Zeldin  \n",
       "2                Property Tax       ZELDIN    Republican   Lee Zeldin  \n",
       "3  Environmental Conservation       ZELDIN    Republican   Lee Zeldin  "
      ]
     },
     "execution_count": 16,
     "metadata": {},
     "output_type": "execute_result"
    }
   ],
   "source": [
    "df.head(4)"
   ]
  },
  {
   "cell_type": "code",
   "execution_count": 17,
   "id": "e2664fc0",
   "metadata": {},
   "outputs": [
    {
     "data": {
      "text/plain": [
       "bill_number                 object\n",
       "bill_link                   object\n",
       "bill_description            object\n",
       "bill_date           datetime64[ns]\n",
       "bill_section                object\n",
       "bill_sponsor                object\n",
       "sponsor_party               object\n",
       "sponsor_name                object\n",
       "dtype: object"
      ]
     },
     "execution_count": 17,
     "metadata": {},
     "output_type": "execute_result"
    }
   ],
   "source": [
    "df.dtypes"
   ]
  },
  {
   "cell_type": "code",
   "execution_count": 18,
   "id": "a7eeb03f",
   "metadata": {},
   "outputs": [],
   "source": [
    "df['bill_year'] = df['bill_date'].dt.to_period('Y')"
   ]
  },
  {
   "cell_type": "code",
   "execution_count": 19,
   "id": "0f6383d4",
   "metadata": {},
   "outputs": [
    {
     "data": {
      "text/html": [
       "<div>\n",
       "<style scoped>\n",
       "    .dataframe tbody tr th:only-of-type {\n",
       "        vertical-align: middle;\n",
       "    }\n",
       "\n",
       "    .dataframe tbody tr th {\n",
       "        vertical-align: top;\n",
       "    }\n",
       "\n",
       "    .dataframe thead th {\n",
       "        text-align: right;\n",
       "    }\n",
       "</style>\n",
       "<table border=\"1\" class=\"dataframe\">\n",
       "  <thead>\n",
       "    <tr style=\"text-align: right;\">\n",
       "      <th></th>\n",
       "      <th>bill_number</th>\n",
       "      <th>bill_link</th>\n",
       "      <th>bill_description</th>\n",
       "      <th>bill_date</th>\n",
       "      <th>bill_section</th>\n",
       "      <th>bill_sponsor</th>\n",
       "      <th>sponsor_party</th>\n",
       "      <th>sponsor_name</th>\n",
       "      <th>bill_year</th>\n",
       "    </tr>\n",
       "  </thead>\n",
       "  <tbody>\n",
       "    <tr>\n",
       "      <th>0</th>\n",
       "      <td>S7728</td>\n",
       "      <td>https://www.nysenate.gov/legislation/bills/201...</td>\n",
       "      <td>Establishes a beer production tax credit for b...</td>\n",
       "      <td>2012-07-18</td>\n",
       "      <td>Tax</td>\n",
       "      <td>ZELDIN</td>\n",
       "      <td>Republican</td>\n",
       "      <td>Lee Zeldin</td>\n",
       "      <td>2012</td>\n",
       "    </tr>\n",
       "    <tr>\n",
       "      <th>1</th>\n",
       "      <td>S6193</td>\n",
       "      <td>https://www.nysenate.gov/legislation/bills/201...</td>\n",
       "      <td>Authorizes assessor of the town of Islip, coun...</td>\n",
       "      <td>2012-07-18</td>\n",
       "      <td>Property Tax</td>\n",
       "      <td>ZELDIN</td>\n",
       "      <td>Republican</td>\n",
       "      <td>Lee Zeldin</td>\n",
       "      <td>2012</td>\n",
       "    </tr>\n",
       "    <tr>\n",
       "      <th>2</th>\n",
       "      <td>S7131</td>\n",
       "      <td>https://www.nysenate.gov/legislation/bills/201...</td>\n",
       "      <td>Relates to limiting base proportion for the 20...</td>\n",
       "      <td>2012-06-29</td>\n",
       "      <td>Property Tax</td>\n",
       "      <td>ZELDIN</td>\n",
       "      <td>Republican</td>\n",
       "      <td>Lee Zeldin</td>\n",
       "      <td>2012</td>\n",
       "    </tr>\n",
       "    <tr>\n",
       "      <th>3</th>\n",
       "      <td>S5196</td>\n",
       "      <td>https://www.nysenate.gov/legislation/bills/201...</td>\n",
       "      <td>Relates to the regulation of certain types of ...</td>\n",
       "      <td>2011-08-17</td>\n",
       "      <td>Environmental Conservation</td>\n",
       "      <td>ZELDIN</td>\n",
       "      <td>Republican</td>\n",
       "      <td>Lee Zeldin</td>\n",
       "      <td>2011</td>\n",
       "    </tr>\n",
       "    <tr>\n",
       "      <th>4</th>\n",
       "      <td>S4092</td>\n",
       "      <td>https://www.nysenate.gov/legislation/bills/201...</td>\n",
       "      <td>Authorizes Hands Across Long Island, Inc. to r...</td>\n",
       "      <td>2013-11-13</td>\n",
       "      <td>Property Tax</td>\n",
       "      <td>ZELDIN</td>\n",
       "      <td>Republican</td>\n",
       "      <td>Lee Zeldin</td>\n",
       "      <td>2013</td>\n",
       "    </tr>\n",
       "    <tr>\n",
       "      <th>5</th>\n",
       "      <td>S5639</td>\n",
       "      <td>https://www.nysenate.gov/legislation/bills/201...</td>\n",
       "      <td>Authorizes New York 811, Inc. to receive retro...</td>\n",
       "      <td>2013-11-13</td>\n",
       "      <td>Property Tax</td>\n",
       "      <td>ZELDIN</td>\n",
       "      <td>Republican</td>\n",
       "      <td>Lee Zeldin</td>\n",
       "      <td>2013</td>\n",
       "    </tr>\n",
       "    <tr>\n",
       "      <th>6</th>\n",
       "      <td>S5367</td>\n",
       "      <td>https://www.nysenate.gov/legislation/bills/201...</td>\n",
       "      <td>Authorizes Saint John's Evangelical Lutheran C...</td>\n",
       "      <td>2013-10-21</td>\n",
       "      <td>Property Tax</td>\n",
       "      <td>ZELDIN</td>\n",
       "      <td>Republican</td>\n",
       "      <td>Lee Zeldin</td>\n",
       "      <td>2013</td>\n",
       "    </tr>\n",
       "    <tr>\n",
       "      <th>7</th>\n",
       "      <td>S5722</td>\n",
       "      <td>https://www.nysenate.gov/legislation/bills/201...</td>\n",
       "      <td>Extends the authorization of the village of Pa...</td>\n",
       "      <td>2013-07-31</td>\n",
       "      <td>Villages</td>\n",
       "      <td>ZELDIN</td>\n",
       "      <td>Republican</td>\n",
       "      <td>Lee Zeldin</td>\n",
       "      <td>2013</td>\n",
       "    </tr>\n",
       "    <tr>\n",
       "      <th>8</th>\n",
       "      <td>S5027</td>\n",
       "      <td>https://www.nysenate.gov/legislation/bills/201...</td>\n",
       "      <td>Relates to limiting base proportion for the 20...</td>\n",
       "      <td>2013-07-31</td>\n",
       "      <td>Property Tax</td>\n",
       "      <td>ZELDIN</td>\n",
       "      <td>Republican</td>\n",
       "      <td>Lee Zeldin</td>\n",
       "      <td>2013</td>\n",
       "    </tr>\n",
       "    <tr>\n",
       "      <th>9</th>\n",
       "      <td>S5838</td>\n",
       "      <td>https://www.nysenate.gov/legislation/bills/201...</td>\n",
       "      <td>Relates to management of the American lobster;...</td>\n",
       "      <td>2013-07-31</td>\n",
       "      <td>Environmental Conservation</td>\n",
       "      <td>ZELDIN</td>\n",
       "      <td>Republican</td>\n",
       "      <td>Lee Zeldin</td>\n",
       "      <td>2013</td>\n",
       "    </tr>\n",
       "  </tbody>\n",
       "</table>\n",
       "</div>"
      ],
      "text/plain": [
       "  bill_number                                          bill_link  \\\n",
       "0       S7728  https://www.nysenate.gov/legislation/bills/201...   \n",
       "1       S6193  https://www.nysenate.gov/legislation/bills/201...   \n",
       "2       S7131  https://www.nysenate.gov/legislation/bills/201...   \n",
       "3       S5196  https://www.nysenate.gov/legislation/bills/201...   \n",
       "4       S4092  https://www.nysenate.gov/legislation/bills/201...   \n",
       "5       S5639  https://www.nysenate.gov/legislation/bills/201...   \n",
       "6       S5367  https://www.nysenate.gov/legislation/bills/201...   \n",
       "7       S5722  https://www.nysenate.gov/legislation/bills/201...   \n",
       "8       S5027  https://www.nysenate.gov/legislation/bills/201...   \n",
       "9       S5838  https://www.nysenate.gov/legislation/bills/201...   \n",
       "\n",
       "                                    bill_description  bill_date  \\\n",
       "0  Establishes a beer production tax credit for b... 2012-07-18   \n",
       "1  Authorizes assessor of the town of Islip, coun... 2012-07-18   \n",
       "2  Relates to limiting base proportion for the 20... 2012-06-29   \n",
       "3  Relates to the regulation of certain types of ... 2011-08-17   \n",
       "4  Authorizes Hands Across Long Island, Inc. to r... 2013-11-13   \n",
       "5  Authorizes New York 811, Inc. to receive retro... 2013-11-13   \n",
       "6  Authorizes Saint John's Evangelical Lutheran C... 2013-10-21   \n",
       "7  Extends the authorization of the village of Pa... 2013-07-31   \n",
       "8  Relates to limiting base proportion for the 20... 2013-07-31   \n",
       "9  Relates to management of the American lobster;... 2013-07-31   \n",
       "\n",
       "                 bill_section bill_sponsor sponsor_party sponsor_name  \\\n",
       "0                        Tax        ZELDIN    Republican   Lee Zeldin   \n",
       "1                Property Tax       ZELDIN    Republican   Lee Zeldin   \n",
       "2                Property Tax       ZELDIN    Republican   Lee Zeldin   \n",
       "3  Environmental Conservation       ZELDIN    Republican   Lee Zeldin   \n",
       "4                Property Tax       ZELDIN    Republican   Lee Zeldin   \n",
       "5                Property Tax       ZELDIN    Republican   Lee Zeldin   \n",
       "6                Property Tax       ZELDIN    Republican   Lee Zeldin   \n",
       "7                    Villages       ZELDIN    Republican   Lee Zeldin   \n",
       "8                Property Tax       ZELDIN    Republican   Lee Zeldin   \n",
       "9  Environmental Conservation       ZELDIN    Republican   Lee Zeldin   \n",
       "\n",
       "  bill_year  \n",
       "0      2012  \n",
       "1      2012  \n",
       "2      2012  \n",
       "3      2011  \n",
       "4      2013  \n",
       "5      2013  \n",
       "6      2013  \n",
       "7      2013  \n",
       "8      2013  \n",
       "9      2013  "
      ]
     },
     "execution_count": 19,
     "metadata": {},
     "output_type": "execute_result"
    }
   ],
   "source": [
    "df.head(10)"
   ]
  },
  {
   "cell_type": "code",
   "execution_count": 36,
   "id": "6c831a4d",
   "metadata": {},
   "outputs": [
    {
     "data": {
      "text/plain": [
       "<AxesSubplot:ylabel='bill_year,bill_section'>"
      ]
     },
     "execution_count": 36,
     "metadata": {},
     "output_type": "execute_result"
    },
    {
     "data": {
      "image/png": "[encoded data removed]",
      "text/plain": [
       "<Figure size 432x288 with 1 Axes>"
      ]
     },
     "metadata": {
      "needs_background": "light"
     },
     "output_type": "display_data"
    }
   ],
   "source": [
    "df.groupby(by='bill_year').bill_section.value_counts().head(5).plot(kind='barh')"
   ]
  },
  {
   "cell_type": "code",
   "execution_count": null,
   "id": "005c4fbb",
   "metadata": {},
   "outputs": [],
   "source": [
    "df.groupby(by='bill_year')"
   ]
  }
 ],
 "metadata": {
  "kernelspec": {
   "display_name": "Python 3 (ipykernel)",
   "language": "python",
   "name": "python3"
  },
  "language_info": {
   "codemirror_mode": {
    "name": "ipython",
    "version": 3
   },
   "file_extension": ".py",
   "mimetype": "text/x-python",
   "name": "python",
   "nbconvert_exporter": "python",
   "pygments_lexer": "ipython3",
   "version": "3.10.0"
  }
 },
 "nbformat": 4,
 "nbformat_minor": 5
}
