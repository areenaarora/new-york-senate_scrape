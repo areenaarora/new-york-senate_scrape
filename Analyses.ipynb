{
 "cells": [
  {
   "cell_type": "code",
   "execution_count": 71,
   "id": "b3ef11a7",
   "metadata": {},
   "outputs": [],
   "source": [
    "import pandas as pd\n",
    "df = pd.read_csv('ten-year-scrape.csv', encoding= 'unicode_escape')\n",
    "df.columns = df.columns.str.replace(\" \", \"_\")\n",
    "df.columns = df.columns.str.replace(\"-\", \"_\")\n",
    "df.columns = df.columns.str.lower()\n",
    "pd.set_option('display.max_columns', None)"
   ]
  },
  {
   "cell_type": "code",
   "execution_count": 72,
   "id": "3bf64909",
   "metadata": {},
   "outputs": [
    {
     "data": {
      "text/html": [
       "<div>\n",
       "<style scoped>\n",
       "    .dataframe tbody tr th:only-of-type {\n",
       "        vertical-align: middle;\n",
       "    }\n",
       "\n",
       "    .dataframe tbody tr th {\n",
       "        vertical-align: top;\n",
       "    }\n",
       "\n",
       "    .dataframe thead th {\n",
       "        text-align: right;\n",
       "    }\n",
       "</style>\n",
       "<table border=\"1\" class=\"dataframe\">\n",
       "  <thead>\n",
       "    <tr style=\"text-align: right;\">\n",
       "      <th></th>\n",
       "      <th>bill_number</th>\n",
       "      <th>bill_link</th>\n",
       "      <th>bill_description</th>\n",
       "      <th>bill_date</th>\n",
       "      <th>bill_section</th>\n",
       "      <th>bill_sponsor</th>\n",
       "      <th>sponsor_party</th>\n",
       "      <th>sponsor_name</th>\n",
       "    </tr>\n",
       "  </thead>\n",
       "  <tbody>\n",
       "    <tr>\n",
       "      <th>0</th>\n",
       "      <td>S7728</td>\n",
       "      <td>https://www.nysenate.gov/legislation/bills/201...</td>\n",
       "      <td>Establishes a beer production tax credit for b...</td>\n",
       "      <td>July 18, 2012</td>\n",
       "      <td>Tax</td>\n",
       "      <td>ZELDIN</td>\n",
       "      <td>Republican</td>\n",
       "      <td>Lee Zeldin</td>\n",
       "    </tr>\n",
       "    <tr>\n",
       "      <th>1</th>\n",
       "      <td>S6193</td>\n",
       "      <td>https://www.nysenate.gov/legislation/bills/201...</td>\n",
       "      <td>Authorizes assessor of the town of Islip, coun...</td>\n",
       "      <td>July 18, 2012</td>\n",
       "      <td>Property Tax</td>\n",
       "      <td>ZELDIN</td>\n",
       "      <td>Republican</td>\n",
       "      <td>Lee Zeldin</td>\n",
       "    </tr>\n",
       "    <tr>\n",
       "      <th>2</th>\n",
       "      <td>S7131</td>\n",
       "      <td>https://www.nysenate.gov/legislation/bills/201...</td>\n",
       "      <td>Relates to limiting base proportion for the 20...</td>\n",
       "      <td>June 29, 2012</td>\n",
       "      <td>Property Tax</td>\n",
       "      <td>ZELDIN</td>\n",
       "      <td>Republican</td>\n",
       "      <td>Lee Zeldin</td>\n",
       "    </tr>\n",
       "  </tbody>\n",
       "</table>\n",
       "</div>"
      ],
      "text/plain": [
       "  bill_number                                          bill_link  \\\n",
       "0       S7728  https://www.nysenate.gov/legislation/bills/201...   \n",
       "1       S6193  https://www.nysenate.gov/legislation/bills/201...   \n",
       "2       S7131  https://www.nysenate.gov/legislation/bills/201...   \n",
       "\n",
       "                                    bill_description       bill_date  \\\n",
       "0  Establishes a beer production tax credit for b...   July 18, 2012   \n",
       "1  Authorizes assessor of the town of Islip, coun...   July 18, 2012   \n",
       "2  Relates to limiting base proportion for the 20...   June 29, 2012   \n",
       "\n",
       "   bill_section bill_sponsor sponsor_party sponsor_name  \n",
       "0          Tax        ZELDIN    Republican   Lee Zeldin  \n",
       "1  Property Tax       ZELDIN    Republican   Lee Zeldin  \n",
       "2  Property Tax       ZELDIN    Republican   Lee Zeldin  "
      ]
     },
     "execution_count": 72,
     "metadata": {},
     "output_type": "execute_result"
    }
   ],
   "source": [
    "df.head(3)"
   ]
  },
  {
   "cell_type": "code",
   "execution_count": 73,
   "id": "996cdcf4",
   "metadata": {},
   "outputs": [
    {
     "data": {
      "text/plain": [
       "221"
      ]
     },
     "execution_count": 73,
     "metadata": {},
     "output_type": "execute_result"
    }
   ],
   "source": [
    "df.bill_section.nunique()"
   ]
  },
  {
   "cell_type": "code",
   "execution_count": 74,
   "id": "c3b822a2",
   "metadata": {},
   "outputs": [
    {
     "data": {
      "text/plain": [
       "bill_number         object\n",
       "bill_link           object\n",
       "bill_description    object\n",
       "bill_date           object\n",
       "bill_section        object\n",
       "bill_sponsor        object\n",
       "sponsor_party       object\n",
       "sponsor_name        object\n",
       "dtype: object"
      ]
     },
     "execution_count": 74,
     "metadata": {},
     "output_type": "execute_result"
    }
   ],
   "source": [
    "df.dtypes"
   ]
  },
  {
   "cell_type": "code",
   "execution_count": 75,
   "id": "192faa95",
   "metadata": {},
   "outputs": [
    {
     "data": {
      "text/plain": [
       "Tax                           386\n",
       "Property Tax                  314\n",
       "Environmental Conservation    281\n",
       "Public Health                 266\n",
       "Education                     257\n",
       "Name: bill_section, dtype: int64"
      ]
     },
     "execution_count": 75,
     "metadata": {},
     "output_type": "execute_result"
    }
   ],
   "source": [
    "df.bill_section.value_counts().head(5)"
   ]
  },
  {
   "cell_type": "code",
   "execution_count": 76,
   "id": "092861df",
   "metadata": {},
   "outputs": [
    {
     "data": {
      "text/plain": [
       "<AxesSubplot:>"
      ]
     },
     "execution_count": 76,
     "metadata": {},
     "output_type": "execute_result"
    },
    {
     "data": {
      "image/png": "[encoded data removed]",
      "text/plain": [
       "<Figure size 432x288 with 1 Axes>"
      ]
     },
     "metadata": {
      "needs_background": "light"
     },
     "output_type": "display_data"
    }
   ],
   "source": [
    "df.bill_section.value_counts().head(5).plot(kind='barh')"
   ]
  },
  {
   "cell_type": "code",
   "execution_count": 77,
   "id": "a8d342cd",
   "metadata": {},
   "outputs": [
    {
     "data": {
      "text/plain": [
       "sponsor_party\n",
       "Democrat              3339\n",
       "Independence Party      55\n",
       "Independent              6\n",
       "Republican            1538\n",
       "Name: bill_section, dtype: int64"
      ]
     },
     "execution_count": 77,
     "metadata": {},
     "output_type": "execute_result"
    }
   ],
   "source": [
    "df.groupby(by='sponsor_party').bill_section.count()"
   ]
  },
  {
   "cell_type": "code",
   "execution_count": 78,
   "id": "62a1e733",
   "metadata": {},
   "outputs": [
    {
     "data": {
      "text/plain": [
       "Tax                               186\n",
       "Property Tax                      110\n",
       "Highway                            85\n",
       "Environmental Conservation         83\n",
       "Retirement and Social Security     80\n",
       "Name: bill_section, dtype: int64"
      ]
     },
     "execution_count": 78,
     "metadata": {},
     "output_type": "execute_result"
    }
   ],
   "source": [
    "df.query('sponsor_party == \"Republican\"').bill_section.value_counts().head(5)"
   ]
  },
  {
   "cell_type": "code",
   "execution_count": 79,
   "id": "3e44bdc2",
   "metadata": {},
   "outputs": [
    {
     "data": {
      "text/plain": [
       "Public Health                 204\n",
       "Property Tax                  198\n",
       "Environmental Conservation    188\n",
       "Education                     186\n",
       "Tax                           173\n",
       "Name: bill_section, dtype: int64"
      ]
     },
     "execution_count": 79,
     "metadata": {},
     "output_type": "execute_result"
    }
   ],
   "source": [
    "df.query('sponsor_party == \"Democrat\"').bill_section.value_counts().head(5)"
   ]
  },
  {
   "cell_type": "code",
   "execution_count": 80,
   "id": "155b3306",
   "metadata": {},
   "outputs": [
    {
     "data": {
      "text/html": [
       "<div>\n",
       "<style scoped>\n",
       "    .dataframe tbody tr th:only-of-type {\n",
       "        vertical-align: middle;\n",
       "    }\n",
       "\n",
       "    .dataframe tbody tr th {\n",
       "        vertical-align: top;\n",
       "    }\n",
       "\n",
       "    .dataframe thead th {\n",
       "        text-align: right;\n",
       "    }\n",
       "</style>\n",
       "<table border=\"1\" class=\"dataframe\">\n",
       "  <thead>\n",
       "    <tr style=\"text-align: right;\">\n",
       "      <th></th>\n",
       "      <th>bill_number</th>\n",
       "      <th>bill_link</th>\n",
       "      <th>bill_description</th>\n",
       "      <th>bill_date</th>\n",
       "      <th>bill_section</th>\n",
       "      <th>bill_sponsor</th>\n",
       "      <th>sponsor_name</th>\n",
       "    </tr>\n",
       "    <tr>\n",
       "      <th>sponsor_party</th>\n",
       "      <th></th>\n",
       "      <th></th>\n",
       "      <th></th>\n",
       "      <th></th>\n",
       "      <th></th>\n",
       "      <th></th>\n",
       "      <th></th>\n",
       "    </tr>\n",
       "  </thead>\n",
       "  <tbody>\n",
       "    <tr>\n",
       "      <th>Democrat</th>\n",
       "      <td>8</td>\n",
       "      <td>8</td>\n",
       "      <td>8</td>\n",
       "      <td>8</td>\n",
       "      <td>8</td>\n",
       "      <td>8</td>\n",
       "      <td>8</td>\n",
       "    </tr>\n",
       "    <tr>\n",
       "      <th>Republican</th>\n",
       "      <td>6</td>\n",
       "      <td>6</td>\n",
       "      <td>6</td>\n",
       "      <td>6</td>\n",
       "      <td>6</td>\n",
       "      <td>6</td>\n",
       "      <td>6</td>\n",
       "    </tr>\n",
       "  </tbody>\n",
       "</table>\n",
       "</div>"
      ],
      "text/plain": [
       "               bill_number  bill_link  bill_description  bill_date  \\\n",
       "sponsor_party                                                        \n",
       "Democrat                 8          8                 8          8   \n",
       "Republican               6          6                 6          6   \n",
       "\n",
       "               bill_section  bill_sponsor  sponsor_name  \n",
       "sponsor_party                                            \n",
       "Democrat                  8             8             8  \n",
       "Republican                6             6             6  "
      ]
     },
     "execution_count": 80,
     "metadata": {},
     "output_type": "execute_result"
    }
   ],
   "source": [
    "df.query('bill_section == \"Military and veterans\"').groupby(by='sponsor_party').count()"
   ]
  },
  {
   "cell_type": "code",
   "execution_count": 81,
   "id": "69297802",
   "metadata": {},
   "outputs": [
    {
     "data": {
      "text/html": [
       "<div>\n",
       "<style scoped>\n",
       "    .dataframe tbody tr th:only-of-type {\n",
       "        vertical-align: middle;\n",
       "    }\n",
       "\n",
       "    .dataframe tbody tr th {\n",
       "        vertical-align: top;\n",
       "    }\n",
       "\n",
       "    .dataframe thead th {\n",
       "        text-align: right;\n",
       "    }\n",
       "</style>\n",
       "<table border=\"1\" class=\"dataframe\">\n",
       "  <thead>\n",
       "    <tr style=\"text-align: right;\">\n",
       "      <th></th>\n",
       "      <th>bill_number</th>\n",
       "      <th>bill_link</th>\n",
       "      <th>bill_description</th>\n",
       "      <th>bill_date</th>\n",
       "      <th>bill_section</th>\n",
       "      <th>bill_sponsor</th>\n",
       "      <th>sponsor_name</th>\n",
       "    </tr>\n",
       "    <tr>\n",
       "      <th>sponsor_party</th>\n",
       "      <th></th>\n",
       "      <th></th>\n",
       "      <th></th>\n",
       "      <th></th>\n",
       "      <th></th>\n",
       "      <th></th>\n",
       "      <th></th>\n",
       "    </tr>\n",
       "  </thead>\n",
       "  <tbody>\n",
       "    <tr>\n",
       "      <th>Democrat</th>\n",
       "      <td>188</td>\n",
       "      <td>188</td>\n",
       "      <td>188</td>\n",
       "      <td>188</td>\n",
       "      <td>188</td>\n",
       "      <td>188</td>\n",
       "      <td>188</td>\n",
       "    </tr>\n",
       "    <tr>\n",
       "      <th>Independence Party</th>\n",
       "      <td>10</td>\n",
       "      <td>10</td>\n",
       "      <td>10</td>\n",
       "      <td>10</td>\n",
       "      <td>10</td>\n",
       "      <td>10</td>\n",
       "      <td>10</td>\n",
       "    </tr>\n",
       "    <tr>\n",
       "      <th>Republican</th>\n",
       "      <td>83</td>\n",
       "      <td>83</td>\n",
       "      <td>83</td>\n",
       "      <td>83</td>\n",
       "      <td>83</td>\n",
       "      <td>83</td>\n",
       "      <td>83</td>\n",
       "    </tr>\n",
       "  </tbody>\n",
       "</table>\n",
       "</div>"
      ],
      "text/plain": [
       "                    bill_number  bill_link  bill_description  bill_date  \\\n",
       "sponsor_party                                                             \n",
       "Democrat                    188        188               188        188   \n",
       "Independence Party           10         10                10         10   \n",
       "Republican                   83         83                83         83   \n",
       "\n",
       "                    bill_section  bill_sponsor  sponsor_name  \n",
       "sponsor_party                                                 \n",
       "Democrat                     188           188           188  \n",
       "Independence Party            10            10            10  \n",
       "Republican                    83            83            83  "
      ]
     },
     "execution_count": 81,
     "metadata": {},
     "output_type": "execute_result"
    }
   ],
   "source": [
    "df.query('bill_section == \"Environmental Conservation\"').groupby(by='sponsor_party').count()"
   ]
  },
  {
   "cell_type": "code",
   "execution_count": 82,
   "id": "82d727e9",
   "metadata": {},
   "outputs": [
    {
     "data": {
      "text/plain": [
       "Tax                                                          386\n",
       "Property Tax                                                 314\n",
       "Environmental Conservation                                   281\n",
       "Public Health                                                266\n",
       "Education                                                    257\n",
       "Executive                                                    215\n",
       "Retirement and Social Security                               173\n",
       "Public Authorities                                           138\n",
       "Insurance                                                    111\n",
       "Highway                                                      106\n",
       "General Municipal                                            100\n",
       "Social Services                                               95\n",
       "Election                                                      94\n",
       "Alcoholic Beverage Control                                    93\n",
       "Vehicle and Traffic                                           92\n",
       "Local Finance                                                 82\n",
       "Agriculture and Markets                                       80\n",
       "Labor                                                         70\n",
       "Correction                                                    69\n",
       "Penal                                                         69\n",
       "General Business                                              68\n",
       "Mental Hygiene                                                63\n",
       "Tax                                                           60\n",
       "Parks, Recreation and Historic Preservation                   59\n",
       "Criminal Procedure                                            56\n",
       "Towns                                                         55\n",
       "Private Housing Finance                                       55\n",
       "Civil Practice                                                53\n",
       "Public Officers                                               53\n",
       "Budget Bills                                                  51\n",
       "Civil Service                                                 50\n",
       "Public Service                                                47\n",
       "Racing                                                        45\n",
       "Family Court Act                                              44\n",
       "State Finance                                                 38\n",
       "Banking                                                       35\n",
       "Not-for-Profit Corporation                                    35\n",
       "Real Property                                                 34\n",
       "Suffolk County                                                33\n",
       "New York City Administrative Code                             31\n",
       "Judiciary                                                     31\n",
       "Civil Service                                                 30\n",
       "Appropriations                                                27\n",
       "Real Property                                                 26\n",
       "Elder                                                         25\n",
       "County                                                        25\n",
       "Domestic Relations                                            23\n",
       "Nassau County                                                 21\n",
       "Navigation                                                    21\n",
       "Social Services                                               19\n",
       "Economic Development                                          18\n",
       "State Administrative Procedure Act                            18\n",
       "Workers' Compensation                                         18\n",
       "Villages                                                      18\n",
       "Estates, Powers and Trusts                                    17\n",
       "Bonds and Notes                                               16\n",
       "New York City                                                 15\n",
       "Military and veterans                                         14\n",
       "Real Property Actions and Proceedings                         14\n",
       "Election                                                      13\n",
       "Towns                                                         13\n",
       "General Municipal                                             13\n",
       "Public Housing                                                12\n",
       "Firefighters                                                  12\n",
       "Public Authorities                                            12\n",
       "General City                                                  11\n",
       "Business Corporation                                          10\n",
       "Surrogate's Court Procedure Act                               10\n",
       "Albany County                                                 10\n",
       "Arts and Cultural Affairs                                     10\n",
       "General Services, Commissioner of                             10\n",
       "Labor                                                         10\n",
       "State                                                         10\n",
       "Financial Services                                             9\n",
       "Public Buildings                                               9\n",
       "Rockland County                                                9\n",
       "State Finance                                                  9\n",
       "General Obligations                                            9\n",
       "New York State Urban Development Corporation Act               8\n",
       "Municipalities                                                 8\n",
       "Housing                                                        8\n",
       "Westchester County                                             8\n",
       "Judiciary                                                      8\n",
       "Mental Hygiene                                                 8\n",
       "Civil Rights                                                   8\n",
       "Banks                                                          7\n",
       "Commissions                                                    7\n",
       "Emergency Housing Rent Control                                 7\n",
       "New York City Civil Court Act                                  7\n",
       "Multiple Dwelling                                              7\n",
       "Vehicle and Traffic                                            7\n",
       "Insurance                                                      7\n",
       "Alcoholic Beverage Control                                     7\n",
       "Ulster County                                                  6\n",
       "Richmond County                                                6\n",
       "Public Libraries                                               6\n",
       "State Technology                                               6\n",
       "Local Finance                                                  6\n",
       "Onondaga County                                                6\n",
       "Energy                                                         5\n",
       "Not-for-Profit Corporation                                     5\n",
       "Transportation                                                 5\n",
       "General City                                                   5\n",
       "Correction                                                     5\n",
       "Arts and Cultural Affairs                                      5\n",
       "Transportation                                                 5\n",
       "Uniform City Court Act                                         5\n",
       "Uniform Commercial Code                                        4\n",
       "Deare County                                                   4\n",
       "Wyoming County                                                 4\n",
       "Schenectady County                                             4\n",
       "Counties                                                       4\n",
       "State                                                          4\n",
       "Columbia County                                                4\n",
       "New York State Medical Care Facilities Finance Agency Act      4\n",
       "Warren County                                                  4\n",
       "Authorities                                                    4\n",
       "Port Authority of New York and New Jersey                      4\n",
       "Executive                                                      4\n",
       "Energy Conservation                                            3\n",
       "Hamilton County                                                3\n",
       "Municipal Home Rule                                            3\n",
       "Saratoga County                                                3\n",
       "Legislature                                                    3\n",
       "State Technology                                               3\n",
       "Sports                                                         3\n",
       "Oneida County                                                  3\n",
       "Herkimer County                                                3\n",
       "Canal                                                          3\n",
       "Uniform Justice Court Act                                      3\n",
       "Troy, City of                                                  3\n",
       "Financial Services                                             3\n",
       "Public Officers                                                3\n",
       "Monroe County                                                  2\n",
       "Canal                                                          2\n",
       "Ontario County                                                 2\n",
       "Conveyance of State Land                                       2\n",
       "Steuben County                                                 2\n",
       "Seneca County                                                  2\n",
       "Broome County                                                  2\n",
       "Elder                                                          2\n",
       "Rural Electric Cooperative                                     2\n",
       "Rensselaer County                                              2\n",
       "Washington County                                              2\n",
       "Economic Development                                           2\n",
       "Cattaraugus County                                             2\n",
       "Comptroller                                                    2\n",
       "Lien                                                           2\n",
       "September Eleventh Terrorist Attacks                           2\n",
       "Religious Corporations                                         2\n",
       "Sullivan County                                                2\n",
       "Middletown, City of                                            2\n",
       "Yates County                                                   2\n",
       "Newburgh, City of                                              2\n",
       "General Business                                               2\n",
       "New York State University                                      2\n",
       "Port Chester, Village of                                       2\n",
       "Cayuga County                                                  2\n",
       "New York City Charter                                          2\n",
       "Madison County                                                 2\n",
       "Debtor and Creditor                                            2\n",
       "Olean, City of                                                 2\n",
       "Facilities Development Corporation Act                         2\n",
       "Family Services                                                2\n",
       "Jefferson County                                               2\n",
       "Poughkeepsie, City of                                          2\n",
       "Indian                                                         1\n",
       "Livingston County                                              1\n",
       "Ilion, Village of                                              1\n",
       "Schoharie County                                               1\n",
       "Elmira, City of                                                1\n",
       "Abandoned Property                                             1\n",
       "Bronx County                                                   1\n",
       "New York State Financial Emergency Act for the City of NY      1\n",
       "Motor Vehicles                                                 1\n",
       "Cortland County                                                1\n",
       "Public Lands                                                   1\n",
       "Niagara County                                                 1\n",
       "Utica, City of                                                 1\n",
       "Syracuse, City of                                              1\n",
       "Workers' Compensation                                          1\n",
       "Chautauqua County                                              1\n",
       "Youth                                                          1\n",
       "Committees                                                     1\n",
       "Public Services                                                1\n",
       "Urban Research                                                 1\n",
       "Oswego County                                                  1\n",
       "Limited Liability Company                                      1\n",
       "Executive Department                                           1\n",
       "Ogdensburg, City of                                            1\n",
       "Children                                                       1\n",
       "Greene County                                                  1\n",
       "Tourism                                                        1\n",
       "Multiple Residence                                             1\n",
       "Hudson River Valley Commission                                 1\n",
       "Railroad                                                       1\n",
       "Kings County                                                   1\n",
       "Metropolitan Transportation Authority                          1\n",
       "Benevolent Orders                                              1\n",
       "Mount Vernon, City of                                          1\n",
       "Albany, City of                                                1\n",
       "Yonkers, City of                                               1\n",
       "Mamaroneck, Village of                                         1\n",
       "Policemen                                                      1\n",
       "Consumer                                                       1\n",
       "Soil and Water Conservation Districts                          1\n",
       "Binghamton, City of                                            1\n",
       "Fire Prevention                                                1\n",
       "Boxing                                                         1\n",
       "General Services, Office of                                    1\n",
       "Court of Claims Act                                            1\n",
       "Franklin County                                                1\n",
       "Queens County                                                  1\n",
       "Domestic Relations                                             1\n",
       "Estates, Powers and Trusts                                     1\n",
       "Business Corporation                                           1\n",
       "Personal Property                                              1\n",
       "General Construction                                           1\n",
       "Genesee County                                                 1\n",
       "St. rence County                                               1\n",
       "Dutchess County                                                1\n",
       "Name: bill_section, dtype: int64"
      ]
     },
     "execution_count": 82,
     "metadata": {},
     "output_type": "execute_result"
    }
   ],
   "source": [
    "df.bill_section.value_counts()"
   ]
  },
  {
   "cell_type": "code",
   "execution_count": 83,
   "id": "cb134d9c",
   "metadata": {},
   "outputs": [
    {
     "data": {
      "text/html": [
       "<div>\n",
       "<style scoped>\n",
       "    .dataframe tbody tr th:only-of-type {\n",
       "        vertical-align: middle;\n",
       "    }\n",
       "\n",
       "    .dataframe tbody tr th {\n",
       "        vertical-align: top;\n",
       "    }\n",
       "\n",
       "    .dataframe thead th {\n",
       "        text-align: right;\n",
       "    }\n",
       "</style>\n",
       "<table border=\"1\" class=\"dataframe\">\n",
       "  <thead>\n",
       "    <tr style=\"text-align: right;\">\n",
       "      <th></th>\n",
       "      <th>bill_number</th>\n",
       "      <th>bill_link</th>\n",
       "      <th>bill_description</th>\n",
       "      <th>bill_date</th>\n",
       "      <th>bill_section</th>\n",
       "      <th>bill_sponsor</th>\n",
       "      <th>sponsor_name</th>\n",
       "    </tr>\n",
       "    <tr>\n",
       "      <th>sponsor_party</th>\n",
       "      <th></th>\n",
       "      <th></th>\n",
       "      <th></th>\n",
       "      <th></th>\n",
       "      <th></th>\n",
       "      <th></th>\n",
       "      <th></th>\n",
       "    </tr>\n",
       "  </thead>\n",
       "  <tbody>\n",
       "    <tr>\n",
       "      <th>Democrat</th>\n",
       "      <td>204</td>\n",
       "      <td>204</td>\n",
       "      <td>204</td>\n",
       "      <td>204</td>\n",
       "      <td>204</td>\n",
       "      <td>204</td>\n",
       "      <td>204</td>\n",
       "    </tr>\n",
       "    <tr>\n",
       "      <th>Republican</th>\n",
       "      <td>58</td>\n",
       "      <td>58</td>\n",
       "      <td>58</td>\n",
       "      <td>58</td>\n",
       "      <td>58</td>\n",
       "      <td>58</td>\n",
       "      <td>58</td>\n",
       "    </tr>\n",
       "  </tbody>\n",
       "</table>\n",
       "</div>"
      ],
      "text/plain": [
       "               bill_number  bill_link  bill_description  bill_date  \\\n",
       "sponsor_party                                                        \n",
       "Democrat               204        204               204        204   \n",
       "Republican              58         58                58         58   \n",
       "\n",
       "               bill_section  bill_sponsor  sponsor_name  \n",
       "sponsor_party                                            \n",
       "Democrat                204           204           204  \n",
       "Republican               58            58            58  "
      ]
     },
     "execution_count": 83,
     "metadata": {},
     "output_type": "execute_result"
    }
   ],
   "source": [
    "df.query('bill_section == \"Public Health\"').groupby(by='sponsor_party').count()"
   ]
  },
  {
   "cell_type": "code",
   "execution_count": null,
   "id": "54e42111",
   "metadata": {},
   "outputs": [],
   "source": []
  },
  {
   "cell_type": "code",
   "execution_count": null,
   "id": "6de898a3",
   "metadata": {},
   "outputs": [],
   "source": []
  }
 ],
 "metadata": {
  "kernelspec": {
   "display_name": "Python 3 (ipykernel)",
   "language": "python",
   "name": "python3"
  },
  "language_info": {
   "codemirror_mode": {
    "name": "ipython",
    "version": 3
   },
   "file_extension": ".py",
   "mimetype": "text/x-python",
   "name": "python",
   "nbconvert_exporter": "python",
   "pygments_lexer": "ipython3",
   "version": "3.10.0"
  }
 },
 "nbformat": 4,
 "nbformat_minor": 5
}
