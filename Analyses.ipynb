{
 "cells": [
  {
   "cell_type": "code",
   "execution_count": 1,
   "id": "0c0e568d",
   "metadata": {},
   "outputs": [
    {
     "name": "stderr",
     "output_type": "stream",
     "text": [
      "/Users/areena.arora/.pyenv/versions/3.10.0/lib/python3.10/site-packages/pandas/compat/__init__.py:124: UserWarning: Could not import the lzma module. Your installed Python is incomplete. Attempting to use lzma compression will result in a RuntimeError.\n",
      "  warnings.warn(msg)\n"
     ]
    }
   ],
   "source": [
    "import pandas as pd\n",
    "from matplotlib import pyplot as plt\n",
    "import re\n",
    "\n",
    "df = pd.read_csv('ten-year-scrape.csv', encoding= 'unicode_escape')\n",
    "df.columns = df.columns.str.replace(\" \", \"_\")\n",
    "df.columns = df.columns.str.replace(\"-\", \"_\")\n",
    "df.columns = df.columns.str.lower()\n",
    "pd.set_option('display.max_columns', None)\n",
    "pd.set_option('max_colwidth', None)"
   ]
  },
  {
   "cell_type": "code",
   "execution_count": 2,
   "id": "fc65b508",
   "metadata": {},
   "outputs": [],
   "source": [
    "df['bill_date'] = pd.to_datetime(df['bill_date'], errors='coerce')\n",
    "df['bill_year'] = df['bill_date'].dt.to_period('Y')"
   ]
  },
  {
   "cell_type": "code",
   "execution_count": 3,
   "id": "f1b6ec4a",
   "metadata": {},
   "outputs": [
    {
     "data": {
      "text/html": [
       "<div>\n",
       "<style scoped>\n",
       "    .dataframe tbody tr th:only-of-type {\n",
       "        vertical-align: middle;\n",
       "    }\n",
       "\n",
       "    .dataframe tbody tr th {\n",
       "        vertical-align: top;\n",
       "    }\n",
       "\n",
       "    .dataframe thead th {\n",
       "        text-align: right;\n",
       "    }\n",
       "</style>\n",
       "<table border=\"1\" class=\"dataframe\">\n",
       "  <thead>\n",
       "    <tr style=\"text-align: right;\">\n",
       "      <th></th>\n",
       "      <th>index</th>\n",
       "      <th>trimmed_bill_section</th>\n",
       "    </tr>\n",
       "  </thead>\n",
       "  <tbody>\n",
       "    <tr>\n",
       "      <th>0</th>\n",
       "      <td>Tax</td>\n",
       "      <td>446</td>\n",
       "    </tr>\n",
       "    <tr>\n",
       "      <th>1</th>\n",
       "      <td>Property Tax</td>\n",
       "      <td>314</td>\n",
       "    </tr>\n",
       "    <tr>\n",
       "      <th>2</th>\n",
       "      <td>Environmental Conservation</td>\n",
       "      <td>281</td>\n",
       "    </tr>\n",
       "    <tr>\n",
       "      <th>3</th>\n",
       "      <td>Public Health</td>\n",
       "      <td>266</td>\n",
       "    </tr>\n",
       "    <tr>\n",
       "      <th>4</th>\n",
       "      <td>Education</td>\n",
       "      <td>257</td>\n",
       "    </tr>\n",
       "  </tbody>\n",
       "</table>\n",
       "</div>"
      ],
      "text/plain": [
       "                        index  trimmed_bill_section\n",
       "0                         Tax                   446\n",
       "1                Property Tax                   314\n",
       "2  Environmental Conservation                   281\n",
       "3               Public Health                   266\n",
       "4                   Education                   257"
      ]
     },
     "execution_count": 3,
     "metadata": {},
     "output_type": "execute_result"
    }
   ],
   "source": [
    "df.trimmed_bill_section.value_counts().head(5).reset_index()"
   ]
  },
  {
   "cell_type": "code",
   "execution_count": 4,
   "id": "264f3608",
   "metadata": {},
   "outputs": [
    {
     "data": {
      "text/plain": [
       "sponsor_party\n",
       "Democrat              3339\n",
       "Independence Party      55\n",
       "Independent              6\n",
       "Republican            1538\n",
       "Name: bill_section, dtype: int64"
      ]
     },
     "execution_count": 4,
     "metadata": {},
     "output_type": "execute_result"
    }
   ],
   "source": [
    "df.groupby(by='sponsor_party').bill_section.count()"
   ]
  },
  {
   "cell_type": "code",
   "execution_count": 5,
   "id": "e4f2437e",
   "metadata": {},
   "outputs": [
    {
     "data": {
      "text/plain": [
       "Tax                               215\n",
       "Property Tax                      110\n",
       "Highway                            85\n",
       "Environmental Conservation         83\n",
       "Retirement and Social Security     80\n",
       "Name: bill_section, dtype: int64"
      ]
     },
     "execution_count": 5,
     "metadata": {},
     "output_type": "execute_result"
    }
   ],
   "source": [
    "df.query('sponsor_party == \"Republican\"').bill_section.value_counts().head(5)"
   ]
  },
  {
   "cell_type": "code",
   "execution_count": 6,
   "id": "da89af55",
   "metadata": {},
   "outputs": [
    {
     "data": {
      "text/plain": [
       "Public Health                 204\n",
       "Tax                           201\n",
       "Property Tax                  198\n",
       "Environmental Conservation    188\n",
       "Education                     186\n",
       "Name: bill_section, dtype: int64"
      ]
     },
     "execution_count": 6,
     "metadata": {},
     "output_type": "execute_result"
    }
   ],
   "source": [
    "df.query('sponsor_party == \"Democrat\"').bill_section.value_counts().head(5)"
   ]
  },
  {
   "cell_type": "code",
   "execution_count": null,
   "id": "62f64073",
   "metadata": {},
   "outputs": [],
   "source": []
  },
  {
   "cell_type": "code",
   "execution_count": 30,
   "id": "5e761789",
   "metadata": {},
   "outputs": [
    {
     "data": {
      "text/plain": [
       "Democrat              188\n",
       "Republican             83\n",
       "Independence Party     10\n",
       "Name: sponsor_party, dtype: int64"
      ]
     },
     "execution_count": 30,
     "metadata": {},
     "output_type": "execute_result"
    }
   ],
   "source": [
    "df.query('trimmed_bill_section == \"Environmental Conservation\"').sponsor_party.value_counts()"
   ]
  },
  {
   "cell_type": "code",
   "execution_count": 14,
   "id": "ddc14faf",
   "metadata": {},
   "outputs": [
    {
     "data": {
      "text/plain": [
       "<AxesSubplot:>"
      ]
     },
     "execution_count": 14,
     "metadata": {},
     "output_type": "execute_result"
    },
    {
     "data": {
      "image/png": "[encoded data removed]",
      "text/plain": [
       "<Figure size 432x288 with 1 Axes>"
      ]
     },
     "metadata": {
      "needs_background": "light"
     },
     "output_type": "display_data"
    }
   ],
   "source": [
    "df.query('trimmed_bill_section == \"Environmental Conservation\"').bill_year.value_counts().plot(kind='bar')"
   ]
  },
  {
   "cell_type": "code",
   "execution_count": 28,
   "id": "fd74c5d5",
   "metadata": {},
   "outputs": [
    {
     "data": {
      "text/html": [
       "<div>\n",
       "<style scoped>\n",
       "    .dataframe tbody tr th:only-of-type {\n",
       "        vertical-align: middle;\n",
       "    }\n",
       "\n",
       "    .dataframe tbody tr th {\n",
       "        vertical-align: top;\n",
       "    }\n",
       "\n",
       "    .dataframe thead th {\n",
       "        text-align: right;\n",
       "    }\n",
       "</style>\n",
       "<table border=\"1\" class=\"dataframe\">\n",
       "  <thead>\n",
       "    <tr style=\"text-align: right;\">\n",
       "      <th></th>\n",
       "      <th>bill_number</th>\n",
       "      <th>bill_link</th>\n",
       "      <th>bill_description</th>\n",
       "      <th>bill_date</th>\n",
       "      <th>bill_section</th>\n",
       "      <th>bill_sponsor</th>\n",
       "      <th>sponsor_party</th>\n",
       "      <th>sponsor_name</th>\n",
       "      <th>bill_year</th>\n",
       "      <th>trimmed_bill_section</th>\n",
       "    </tr>\n",
       "  </thead>\n",
       "  <tbody>\n",
       "    <tr>\n",
       "      <th>619</th>\n",
       "      <td>A2294</td>\n",
       "      <td>https://www.nysenate.gov/legislation/bills/2009/a2294/amendment/original</td>\n",
       "      <td>Relates to the taking of fish for commercial purposes</td>\n",
       "      <td>2010-09-17</td>\n",
       "      <td>Environmental Conservation</td>\n",
       "      <td>THIELE</td>\n",
       "      <td>Independence Party</td>\n",
       "      <td>Fred Thiele</td>\n",
       "      <td>2010</td>\n",
       "      <td>Environmental Conservation</td>\n",
       "    </tr>\n",
       "    <tr>\n",
       "      <th>905</th>\n",
       "      <td>A7150</td>\n",
       "      <td>https://www.nysenate.gov/legislation/bills/2011/a7150/amendment/original</td>\n",
       "      <td>Relates to the management of squid</td>\n",
       "      <td>2011-08-03</td>\n",
       "      <td>Environmental Conservation</td>\n",
       "      <td>THIELE</td>\n",
       "      <td>Independence Party</td>\n",
       "      <td>Fred Thiele</td>\n",
       "      <td>2011</td>\n",
       "      <td>Environmental Conservation</td>\n",
       "    </tr>\n",
       "    <tr>\n",
       "      <th>981</th>\n",
       "      <td>A6959</td>\n",
       "      <td>https://www.nysenate.gov/legislation/bills/2011/a6959/amendment/original</td>\n",
       "      <td>Relates to the management of scallops</td>\n",
       "      <td>2011-08-17</td>\n",
       "      <td>Environmental Conservation</td>\n",
       "      <td>THIELE</td>\n",
       "      <td>Independence Party</td>\n",
       "      <td>Fred Thiele</td>\n",
       "      <td>2011</td>\n",
       "      <td>Environmental Conservation</td>\n",
       "    </tr>\n",
       "    <tr>\n",
       "      <th>1386</th>\n",
       "      <td>A6906</td>\n",
       "      <td>https://www.nysenate.gov/legislation/bills/2013/a6906/amendment/original</td>\n",
       "      <td>Extends the authority of the department of environmental conservation to manage squid</td>\n",
       "      <td>2013-06-19</td>\n",
       "      <td>Environmental Conservation</td>\n",
       "      <td>THIELE</td>\n",
       "      <td>Independence Party</td>\n",
       "      <td>Fred Thiele</td>\n",
       "      <td>2013</td>\n",
       "      <td>Environmental Conservation</td>\n",
       "    </tr>\n",
       "    <tr>\n",
       "      <th>2204</th>\n",
       "      <td>A7857</td>\n",
       "      <td>https://www.nysenate.gov/legislation/bills/2015/a7857/amendment/original</td>\n",
       "      <td>Extends the authority of the department of environmental conservation to manage squid</td>\n",
       "      <td>2015-08-13</td>\n",
       "      <td>Environmental Conservation</td>\n",
       "      <td>THIELE</td>\n",
       "      <td>Independence Party</td>\n",
       "      <td>Fred Thiele</td>\n",
       "      <td>2015</td>\n",
       "      <td>Environmental Conservation</td>\n",
       "    </tr>\n",
       "    <tr>\n",
       "      <th>2746</th>\n",
       "      <td>A6727</td>\n",
       "      <td>https://www.nysenate.gov/legislation/bills/2015/a6727/amendment/original</td>\n",
       "      <td>Extends the time period for the taking of deer in the county of Suffolk from December thirty-first until March thirty-first</td>\n",
       "      <td>2016-07-21</td>\n",
       "      <td>Environmental Conservation</td>\n",
       "      <td>THIELE</td>\n",
       "      <td>Independence Party</td>\n",
       "      <td>Fred Thiele</td>\n",
       "      <td>2016</td>\n",
       "      <td>Environmental Conservation</td>\n",
       "    </tr>\n",
       "    <tr>\n",
       "      <th>2747</th>\n",
       "      <td>A9218</td>\n",
       "      <td>https://www.nysenate.gov/legislation/bills/2015/a9218/amendment/original</td>\n",
       "      <td>Relates to extending certain provisions relating to the taking of sharks</td>\n",
       "      <td>2016-07-21</td>\n",
       "      <td>Environmental Conservation</td>\n",
       "      <td>THIELE</td>\n",
       "      <td>Independence Party</td>\n",
       "      <td>Fred Thiele</td>\n",
       "      <td>2016</td>\n",
       "      <td>Environmental Conservation</td>\n",
       "    </tr>\n",
       "    <tr>\n",
       "      <th>3028</th>\n",
       "      <td>A7186</td>\n",
       "      <td>https://www.nysenate.gov/legislation/bills/2017/a7186/amendment/original</td>\n",
       "      <td>Extends for three years the effectiveness of chapter 435 of the laws of 2014</td>\n",
       "      <td>2017-06-29</td>\n",
       "      <td>Environmental Conservation</td>\n",
       "      <td>THIELE</td>\n",
       "      <td>Independence Party</td>\n",
       "      <td>Fred Thiele</td>\n",
       "      <td>2017</td>\n",
       "      <td>Environmental Conservation</td>\n",
       "    </tr>\n",
       "    <tr>\n",
       "      <th>3479</th>\n",
       "      <td>A6314</td>\n",
       "      <td>https://www.nysenate.gov/legislation/bills/2017/a6314/amendment/original</td>\n",
       "      <td>Authorizes the enactment or enforcement of local laws or ordinances requiring the monitoring of groundwater impacts resulting from mining or the reclamation of mines within certain counties</td>\n",
       "      <td>2018-10-01</td>\n",
       "      <td>Environmental Conservation</td>\n",
       "      <td>THIELE</td>\n",
       "      <td>Independence Party</td>\n",
       "      <td>Fred Thiele</td>\n",
       "      <td>2018</td>\n",
       "      <td>Environmental Conservation</td>\n",
       "    </tr>\n",
       "    <tr>\n",
       "      <th>5006</th>\n",
       "      <td>A8724</td>\n",
       "      <td>https://www.nysenate.gov/legislation/bills/2021/a8724</td>\n",
       "      <td>Permits seaweed cultivation in underwater lands at Gardiner's and Peconic bays and commercial fishing licenses</td>\n",
       "      <td>2022-02-24</td>\n",
       "      <td>Environmental Conservation</td>\n",
       "      <td>THIELE</td>\n",
       "      <td>Independence Party</td>\n",
       "      <td>Fred Thiele</td>\n",
       "      <td>2022</td>\n",
       "      <td>Environmental Conservation</td>\n",
       "    </tr>\n",
       "  </tbody>\n",
       "</table>\n",
       "</div>"
      ],
      "text/plain": [
       "     bill_number  \\\n",
       "619        A2294   \n",
       "905        A7150   \n",
       "981        A6959   \n",
       "1386       A6906   \n",
       "2204       A7857   \n",
       "2746       A6727   \n",
       "2747       A9218   \n",
       "3028       A7186   \n",
       "3479       A6314   \n",
       "5006       A8724   \n",
       "\n",
       "                                                                     bill_link  \\\n",
       "619   https://www.nysenate.gov/legislation/bills/2009/a2294/amendment/original   \n",
       "905   https://www.nysenate.gov/legislation/bills/2011/a7150/amendment/original   \n",
       "981   https://www.nysenate.gov/legislation/bills/2011/a6959/amendment/original   \n",
       "1386  https://www.nysenate.gov/legislation/bills/2013/a6906/amendment/original   \n",
       "2204  https://www.nysenate.gov/legislation/bills/2015/a7857/amendment/original   \n",
       "2746  https://www.nysenate.gov/legislation/bills/2015/a6727/amendment/original   \n",
       "2747  https://www.nysenate.gov/legislation/bills/2015/a9218/amendment/original   \n",
       "3028  https://www.nysenate.gov/legislation/bills/2017/a7186/amendment/original   \n",
       "3479  https://www.nysenate.gov/legislation/bills/2017/a6314/amendment/original   \n",
       "5006                     https://www.nysenate.gov/legislation/bills/2021/a8724   \n",
       "\n",
       "                                                                                                                                                                                   bill_description  \\\n",
       "619                                                                                                                                           Relates to the taking of fish for commercial purposes   \n",
       "905                                                                                                                                                              Relates to the management of squid   \n",
       "981                                                                                                                                                           Relates to the management of scallops   \n",
       "1386                                                                                                          Extends the authority of the department of environmental conservation to manage squid   \n",
       "2204                                                                                                          Extends the authority of the department of environmental conservation to manage squid   \n",
       "2746                                                                    Extends the time period for the taking of deer in the county of Suffolk from December thirty-first until March thirty-first   \n",
       "2747                                                                                                                       Relates to extending certain provisions relating to the taking of sharks   \n",
       "3028                                                                                                                   Extends for three years the effectiveness of chapter 435 of the laws of 2014   \n",
       "3479  Authorizes the enactment or enforcement of local laws or ordinances requiring the monitoring of groundwater impacts resulting from mining or the reclamation of mines within certain counties   \n",
       "5006                                                                                 Permits seaweed cultivation in underwater lands at Gardiner's and Peconic bays and commercial fishing licenses   \n",
       "\n",
       "      bill_date                bill_section bill_sponsor       sponsor_party  \\\n",
       "619  2010-09-17  Environmental Conservation       THIELE  Independence Party   \n",
       "905  2011-08-03  Environmental Conservation       THIELE  Independence Party   \n",
       "981  2011-08-17  Environmental Conservation       THIELE  Independence Party   \n",
       "1386 2013-06-19  Environmental Conservation       THIELE  Independence Party   \n",
       "2204 2015-08-13  Environmental Conservation       THIELE  Independence Party   \n",
       "2746 2016-07-21  Environmental Conservation       THIELE  Independence Party   \n",
       "2747 2016-07-21  Environmental Conservation       THIELE  Independence Party   \n",
       "3028 2017-06-29  Environmental Conservation       THIELE  Independence Party   \n",
       "3479 2018-10-01  Environmental Conservation       THIELE  Independence Party   \n",
       "5006 2022-02-24  Environmental Conservation       THIELE  Independence Party   \n",
       "\n",
       "     sponsor_name bill_year        trimmed_bill_section  \n",
       "619   Fred Thiele      2010  Environmental Conservation  \n",
       "905   Fred Thiele      2011  Environmental Conservation  \n",
       "981   Fred Thiele      2011  Environmental Conservation  \n",
       "1386  Fred Thiele      2013  Environmental Conservation  \n",
       "2204  Fred Thiele      2015  Environmental Conservation  \n",
       "2746  Fred Thiele      2016  Environmental Conservation  \n",
       "2747  Fred Thiele      2016  Environmental Conservation  \n",
       "3028  Fred Thiele      2017  Environmental Conservation  \n",
       "3479  Fred Thiele      2018  Environmental Conservation  \n",
       "5006  Fred Thiele      2022  Environmental Conservation  "
      ]
     },
     "execution_count": 28,
     "metadata": {},
     "output_type": "execute_result"
    }
   ],
   "source": [
    "df.query('trimmed_bill_section == \"Environmental Conservation\"').query('sponsor_party == \"Independence Party\"')"
   ]
  },
  {
   "cell_type": "code",
   "execution_count": 34,
   "id": "bd545f49",
   "metadata": {},
   "outputs": [
    {
     "data": {
      "text/plain": [
       "Environmental Conservation                          10\n",
       "Suffolk County                                       4\n",
       "Property Tax                                         4\n",
       "Retirement and Social Security                       4\n",
       "General Municipal                                    4\n",
       "Towns                                                3\n",
       "Public Authorities                                   3\n",
       "Public Service                                       2\n",
       "County                                               2\n",
       "Local Finance                                        2\n",
       "Agriculture and Markets                              1\n",
       "Public Officers                                      1\n",
       "Highway                                              1\n",
       "Education                                            1\n",
       "Municipalities                                       1\n",
       "Executive Department                                 1\n",
       "Election                                             1\n",
       "General City                                         1\n",
       "Villages                                             1\n",
       "Economic Development                                 1\n",
       "New York State Urban Development Corporation Act     1\n",
       "Executive                                            1\n",
       "Navigation                                           1\n",
       "Tax                                                  1\n",
       "Vehicle and Traffic                                  1\n",
       "Labor                                                1\n",
       "Transportation                                       1\n",
       "Name: trimmed_bill_section, dtype: int64"
      ]
     },
     "execution_count": 34,
     "metadata": {},
     "output_type": "execute_result"
    }
   ],
   "source": [
    "df.query('sponsor_party == \"Independence Party\"').trimmed_bill_section.value_counts()"
   ]
  },
  {
   "cell_type": "code",
   "execution_count": 36,
   "id": "54025303",
   "metadata": {},
   "outputs": [
    {
     "data": {
      "text/plain": [
       "0       2009\n",
       "1       2009\n",
       "2       2009\n",
       "3       2009\n",
       "4       2009\n",
       "        ... \n",
       "5047    2022\n",
       "5048    2022\n",
       "5049     NaT\n",
       "5050     NaT\n",
       "5051     NaT\n",
       "Name: bill_year, Length: 5052, dtype: period[A-DEC]"
      ]
     },
     "execution_count": 36,
     "metadata": {},
     "output_type": "execute_result"
    }
   ],
   "source": [
    "df.bill_year"
   ]
  },
  {
   "cell_type": "code",
   "execution_count": null,
   "id": "d768f928",
   "metadata": {},
   "outputs": [],
   "source": []
  }
 ],
 "metadata": {
  "kernelspec": {
   "display_name": "Python 3 (ipykernel)",
   "language": "python",
   "name": "python3"
  },
  "language_info": {
   "codemirror_mode": {
    "name": "ipython",
    "version": 3
   },
   "file_extension": ".py",
   "mimetype": "text/x-python",
   "name": "python",
   "nbconvert_exporter": "python",
   "pygments_lexer": "ipython3",
   "version": "3.10.0"
  }
 },
 "nbformat": 4,
 "nbformat_minor": 5
}
