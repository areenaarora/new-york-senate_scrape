{
 "cells": [
  {
   "cell_type": "code",
   "execution_count": 1,
   "id": "b293e2dc",
   "metadata": {},
   "outputs": [
    {
     "name": "stderr",
     "output_type": "stream",
     "text": [
      "/Users/areena.arora/.pyenv/versions/3.10.0/lib/python3.10/site-packages/pandas/compat/__init__.py:124: UserWarning: Could not import the lzma module. Your installed Python is incomplete. Attempting to use lzma compression will result in a RuntimeError.\n",
      "  warnings.warn(msg)\n"
     ]
    }
   ],
   "source": [
    "import pandas as pd\n",
    "df = pd.read_csv('ten-year-scrape.csv', encoding= 'unicode_escape')\n",
    "df.columns = df.columns.str.replace(\" \", \"_\")\n",
    "df.columns = df.columns.str.replace(\"-\", \"_\")\n",
    "df.columns = df.columns.str.lower()\n",
    "pd.set_option('display.max_columns', None)"
   ]
  },
  {
   "cell_type": "code",
   "execution_count": 2,
   "id": "9cf92f5d",
   "metadata": {},
   "outputs": [
    {
     "data": {
      "text/html": [
       "<div>\n",
       "<style scoped>\n",
       "    .dataframe tbody tr th:only-of-type {\n",
       "        vertical-align: middle;\n",
       "    }\n",
       "\n",
       "    .dataframe tbody tr th {\n",
       "        vertical-align: top;\n",
       "    }\n",
       "\n",
       "    .dataframe thead th {\n",
       "        text-align: right;\n",
       "    }\n",
       "</style>\n",
       "<table border=\"1\" class=\"dataframe\">\n",
       "  <thead>\n",
       "    <tr style=\"text-align: right;\">\n",
       "      <th></th>\n",
       "      <th>bill_number</th>\n",
       "      <th>bill_link</th>\n",
       "      <th>bill_description</th>\n",
       "      <th>bill_date</th>\n",
       "      <th>bill_section</th>\n",
       "      <th>bill_sponsor</th>\n",
       "      <th>sponsor_party</th>\n",
       "      <th>sponsor_name</th>\n",
       "      <th>bill_year</th>\n",
       "      <th>trimmed_bill_section</th>\n",
       "    </tr>\n",
       "  </thead>\n",
       "  <tbody>\n",
       "    <tr>\n",
       "      <th>0</th>\n",
       "      <td>S7728</td>\n",
       "      <td>https://www.nysenate.gov/legislation/bills/201...</td>\n",
       "      <td>Establishes a beer production tax credit for b...</td>\n",
       "      <td>7/18/12</td>\n",
       "      <td>Tax</td>\n",
       "      <td>ZELDIN</td>\n",
       "      <td>Republican</td>\n",
       "      <td>Lee Zeldin</td>\n",
       "      <td>2012.0</td>\n",
       "      <td>Tax</td>\n",
       "    </tr>\n",
       "    <tr>\n",
       "      <th>1</th>\n",
       "      <td>S6193</td>\n",
       "      <td>https://www.nysenate.gov/legislation/bills/201...</td>\n",
       "      <td>Authorizes assessor of the town of Islip, coun...</td>\n",
       "      <td>7/18/12</td>\n",
       "      <td>Property Tax</td>\n",
       "      <td>ZELDIN</td>\n",
       "      <td>Republican</td>\n",
       "      <td>Lee Zeldin</td>\n",
       "      <td>2012.0</td>\n",
       "      <td>Property Tax</td>\n",
       "    </tr>\n",
       "    <tr>\n",
       "      <th>2</th>\n",
       "      <td>S7131</td>\n",
       "      <td>https://www.nysenate.gov/legislation/bills/201...</td>\n",
       "      <td>Relates to limiting base proportion for the 20...</td>\n",
       "      <td>6/29/12</td>\n",
       "      <td>Property Tax</td>\n",
       "      <td>ZELDIN</td>\n",
       "      <td>Republican</td>\n",
       "      <td>Lee Zeldin</td>\n",
       "      <td>2012.0</td>\n",
       "      <td>Property Tax</td>\n",
       "    </tr>\n",
       "  </tbody>\n",
       "</table>\n",
       "</div>"
      ],
      "text/plain": [
       "  bill_number                                          bill_link  \\\n",
       "0       S7728  https://www.nysenate.gov/legislation/bills/201...   \n",
       "1       S6193  https://www.nysenate.gov/legislation/bills/201...   \n",
       "2       S7131  https://www.nysenate.gov/legislation/bills/201...   \n",
       "\n",
       "                                    bill_description bill_date  bill_section  \\\n",
       "0  Establishes a beer production tax credit for b...   7/18/12           Tax   \n",
       "1  Authorizes assessor of the town of Islip, coun...   7/18/12  Property Tax   \n",
       "2  Relates to limiting base proportion for the 20...   6/29/12  Property Tax   \n",
       "\n",
       "  bill_sponsor sponsor_party sponsor_name  bill_year trimmed_bill_section  \n",
       "0       ZELDIN    Republican   Lee Zeldin     2012.0                  Tax  \n",
       "1       ZELDIN    Republican   Lee Zeldin     2012.0         Property Tax  \n",
       "2       ZELDIN    Republican   Lee Zeldin     2012.0         Property Tax  "
      ]
     },
     "execution_count": 2,
     "metadata": {},
     "output_type": "execute_result"
    }
   ],
   "source": [
    "df.head(3)"
   ]
  },
  {
   "cell_type": "code",
   "execution_count": 3,
   "id": "d70ee7fa",
   "metadata": {},
   "outputs": [
    {
     "data": {
      "text/plain": [
       "187"
      ]
     },
     "execution_count": 3,
     "metadata": {},
     "output_type": "execute_result"
    }
   ],
   "source": [
    "df.trimmed_bill_section.nunique()"
   ]
  },
  {
   "cell_type": "code",
   "execution_count": 4,
   "id": "450dfc71",
   "metadata": {},
   "outputs": [
    {
     "data": {
      "text/plain": [
       "bill_number              object\n",
       "bill_link                object\n",
       "bill_description         object\n",
       "bill_date                object\n",
       "bill_section             object\n",
       "bill_sponsor             object\n",
       "sponsor_party            object\n",
       "sponsor_name             object\n",
       "bill_year               float64\n",
       "trimmed_bill_section     object\n",
       "dtype: object"
      ]
     },
     "execution_count": 4,
     "metadata": {},
     "output_type": "execute_result"
    }
   ],
   "source": [
    "df.dtypes"
   ]
  },
  {
   "cell_type": "code",
   "execution_count": 6,
   "id": "a8a71c3f",
   "metadata": {},
   "outputs": [
    {
     "data": {
      "text/plain": [
       "Tax                           446\n",
       "Property Tax                  314\n",
       "Environmental Conservation    281\n",
       "Public Health                 266\n",
       "Education                     257\n",
       "Name: bill_section, dtype: int64"
      ]
     },
     "execution_count": 6,
     "metadata": {},
     "output_type": "execute_result"
    }
   ],
   "source": []
  },
  {
   "cell_type": "code",
   "execution_count": 7,
   "id": "e6ec2641",
   "metadata": {},
   "outputs": [
    {
     "data": {
      "text/plain": [
       "Tax                           446\n",
       "Property Tax                  314\n",
       "Environmental Conservation    281\n",
       "Public Health                 266\n",
       "Education                     257\n",
       "Name: trimmed_bill_section, dtype: int64"
      ]
     },
     "execution_count": 7,
     "metadata": {},
     "output_type": "execute_result"
    }
   ],
   "source": [
    "df.trimmed_bill_section.value_counts().head(5)"
   ]
  },
  {
   "cell_type": "code",
   "execution_count": 8,
   "id": "a3fdd258",
   "metadata": {},
   "outputs": [
    {
     "data": {
      "text/plain": [
       "<AxesSubplot:>"
      ]
     },
     "execution_count": 8,
     "metadata": {},
     "output_type": "execute_result"
    },
    {
     "data": {
      "image/png": "[encoded data removed]",
      "text/plain": [
       "<Figure size 432x288 with 1 Axes>"
      ]
     },
     "metadata": {
      "needs_background": "light"
     },
     "output_type": "display_data"
    }
   ],
   "source": [
    "df.trimmed_bill_section.value_counts().head(5).plot(kind='barh')"
   ]
  },
  {
   "cell_type": "code",
   "execution_count": 13,
   "id": "5944f9a5",
   "metadata": {},
   "outputs": [
    {
     "data": {
      "image/png": "[encoded data removed]",
      "text/plain": [
       "<Figure size 720x576 with 1 Axes>"
      ]
     },
     "metadata": {
      "needs_background": "light"
     },
     "output_type": "display_data"
    }
   ],
   "source": [
    "from matplotlib import pyplot as plt\n",
    "df.trimmed_bill_section.value_counts().head(5).plot(figsize=(10,8), kind='bar')\n",
    "plt.savefig('top_5.svg')"
   ]
  },
  {
   "cell_type": "code",
   "execution_count": 15,
   "id": "64138112",
   "metadata": {},
   "outputs": [
    {
     "data": {
      "text/plain": [
       "Tax                               446\n",
       "Property Tax                      314\n",
       "Environmental Conservation        281\n",
       "Public Health                     266\n",
       "Education                         257\n",
       "Executive                         219\n",
       "Retirement and Social Security    173\n",
       "Public Authorities                150\n",
       "Insurance                         118\n",
       "Social Services                   114\n",
       "Name: trimmed_bill_section, dtype: int64"
      ]
     },
     "execution_count": 15,
     "metadata": {},
     "output_type": "execute_result"
    }
   ],
   "source": [
    "df.trimmed_bill_section.value_counts().head(10)"
   ]
  },
  {
   "cell_type": "code",
   "execution_count": 16,
   "id": "ddece880",
   "metadata": {},
   "outputs": [
    {
     "data": {
      "text/plain": [
       "sponsor_party\n",
       "Democrat              3339\n",
       "Independence Party      55\n",
       "Independent              6\n",
       "Republican            1538\n",
       "Name: bill_section, dtype: int64"
      ]
     },
     "execution_count": 16,
     "metadata": {},
     "output_type": "execute_result"
    }
   ],
   "source": [
    "df.groupby(by='sponsor_party').bill_section.count()"
   ]
  },
  {
   "cell_type": "code",
   "execution_count": null,
   "id": "0436a88f",
   "metadata": {},
   "outputs": [],
   "source": []
  },
  {
   "cell_type": "code",
   "execution_count": null,
   "id": "7b300679",
   "metadata": {},
   "outputs": [],
   "source": []
  },
  {
   "cell_type": "code",
   "execution_count": null,
   "id": "af92fe01",
   "metadata": {},
   "outputs": [],
   "source": []
  },
  {
   "cell_type": "code",
   "execution_count": null,
   "id": "d65c9f12",
   "metadata": {},
   "outputs": [],
   "source": []
  },
  {
   "cell_type": "code",
   "execution_count": null,
   "id": "23c4926c",
   "metadata": {},
   "outputs": [],
   "source": []
  },
  {
   "cell_type": "code",
   "execution_count": null,
   "id": "bddb5039",
   "metadata": {},
   "outputs": [],
   "source": []
  },
  {
   "cell_type": "code",
   "execution_count": null,
   "id": "6ab961d8",
   "metadata": {},
   "outputs": [],
   "source": [
    "df.groupby(by='sponsor_party').bill_section.count()"
   ]
  },
  {
   "cell_type": "code",
   "execution_count": null,
   "id": "c970fe21",
   "metadata": {},
   "outputs": [],
   "source": [
    "df.query('sponsor_party == \"Republican\"').bill_section.value_counts().head(5)"
   ]
  },
  {
   "cell_type": "code",
   "execution_count": null,
   "id": "ec2bad3d",
   "metadata": {},
   "outputs": [],
   "source": [
    "df.query('sponsor_party == \"Democrat\"').bill_section.value_counts().head(5)"
   ]
  },
  {
   "cell_type": "code",
   "execution_count": null,
   "id": "be6d79ef",
   "metadata": {},
   "outputs": [],
   "source": [
    "df.query('bill_section == \"Military and veterans\"').groupby(by='sponsor_party').count()"
   ]
  },
  {
   "cell_type": "code",
   "execution_count": null,
   "id": "99f1064d",
   "metadata": {},
   "outputs": [],
   "source": [
    "df.query('bill_section == \"Environmental Conservation\"').groupby(by='sponsor_party').count()"
   ]
  },
  {
   "cell_type": "code",
   "execution_count": null,
   "id": "8eb7f0cb",
   "metadata": {},
   "outputs": [],
   "source": [
    "df.bill_section.value_counts()"
   ]
  },
  {
   "cell_type": "code",
   "execution_count": null,
   "id": "8bb1caa1",
   "metadata": {},
   "outputs": [],
   "source": [
    "df.query('bill_section == \"Public Health\"').groupby(by='sponsor_party').count()"
   ]
  },
  {
   "cell_type": "code",
   "execution_count": null,
   "id": "d46acd2d",
   "metadata": {},
   "outputs": [],
   "source": [
    "df.sponsor_party.value_counts()"
   ]
  },
  {
   "cell_type": "code",
   "execution_count": null,
   "id": "f805421c",
   "metadata": {},
   "outputs": [],
   "source": [
    "df['bill_date'] = pd.to_datetime(df['bill_date'], errors='coerce')"
   ]
  },
  {
   "cell_type": "code",
   "execution_count": null,
   "id": "9f31d35b",
   "metadata": {},
   "outputs": [],
   "source": [
    "df.head(4)"
   ]
  },
  {
   "cell_type": "code",
   "execution_count": null,
   "id": "8d79d98d",
   "metadata": {},
   "outputs": [],
   "source": [
    "df.dtypes"
   ]
  },
  {
   "cell_type": "code",
   "execution_count": null,
   "id": "b63f9718",
   "metadata": {},
   "outputs": [],
   "source": [
    "df['bill_year'] = df['bill_date'].dt.to_period('Y')"
   ]
  },
  {
   "cell_type": "code",
   "execution_count": null,
   "id": "b058038e",
   "metadata": {},
   "outputs": [],
   "source": [
    "df.head(10)"
   ]
  },
  {
   "cell_type": "code",
   "execution_count": null,
   "id": "abb6589c",
   "metadata": {},
   "outputs": [],
   "source": [
    "df.groupby(['bill_year', 'bill_section']).head(5).plot(kind='barh')"
   ]
  },
  {
   "cell_type": "code",
   "execution_count": null,
   "id": "e3565cf5",
   "metadata": {},
   "outputs": [],
   "source": [
    "# df.groupby(by='bill_year').bill_section.count().plot(figsize=(10,8))"
   ]
  },
  {
   "cell_type": "code",
   "execution_count": null,
   "id": "425d9875",
   "metadata": {},
   "outputs": [],
   "source": [
    "# df.to_csv('ten-year-scrape.csv')"
   ]
  },
  {
   "cell_type": "code",
   "execution_count": null,
   "id": "4f5873e4",
   "metadata": {},
   "outputs": [],
   "source": [
    "df.groupby(by='bill_year').bill_section.count().plot(figsize=(10,8), kind='bar')"
   ]
  },
  {
   "cell_type": "code",
   "execution_count": null,
   "id": "d5c68e1b",
   "metadata": {},
   "outputs": [],
   "source": [
    "df.bill_number.nunique()"
   ]
  },
  {
   "cell_type": "code",
   "execution_count": null,
   "id": "327ef761",
   "metadata": {},
   "outputs": [],
   "source": [
    "df.bill_year.nunique()"
   ]
  },
  {
   "cell_type": "code",
   "execution_count": null,
   "id": "d3d006a0",
   "metadata": {},
   "outputs": [],
   "source": [
    "df.bill_link.nunique()"
   ]
  },
  {
   "cell_type": "code",
   "execution_count": null,
   "id": "b4c3748a",
   "metadata": {},
   "outputs": [],
   "source": [
    "df.groupby(by='bill_year').bill_section.count()"
   ]
  },
  {
   "cell_type": "code",
   "execution_count": null,
   "id": "b0bb9cfc",
   "metadata": {},
   "outputs": [],
   "source": [
    "df.bill_section.value_counts().head(5)"
   ]
  },
  {
   "cell_type": "code",
   "execution_count": null,
   "id": "16bdecdf",
   "metadata": {},
   "outputs": [],
   "source": [
    "from matplotlib import pyplot as plt\n",
    "df.bill_section.value_counts().head(5).plot(kind=\"bar\", figsize=(10,8))\n",
    "plt.savefig('top_5.svg')"
   ]
  },
  {
   "cell_type": "code",
   "execution_count": null,
   "id": "9e238cdf",
   "metadata": {},
   "outputs": [],
   "source": [
    "df.query('bill_section == \"Tax\"').sponsor_party.value_counts()"
   ]
  },
  {
   "cell_type": "code",
   "execution_count": null,
   "id": "4b2a9e58",
   "metadata": {},
   "outputs": [],
   "source": [
    "df.query('bill_section == \"Tax\"').nunique()"
   ]
  },
  {
   "cell_type": "code",
   "execution_count": null,
   "id": "05148367",
   "metadata": {},
   "outputs": [],
   "source": []
  }
 ],
 "metadata": {
  "kernelspec": {
   "display_name": "Python 3 (ipykernel)",
   "language": "python",
   "name": "python3"
  },
  "language_info": {
   "codemirror_mode": {
    "name": "ipython",
    "version": 3
   },
   "file_extension": ".py",
   "mimetype": "text/x-python",
   "name": "python",
   "nbconvert_exporter": "python",
   "pygments_lexer": "ipython3",
   "version": "3.10.0"
  }
 },
 "nbformat": 4,
 "nbformat_minor": 5
}
